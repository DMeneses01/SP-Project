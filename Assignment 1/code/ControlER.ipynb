{
 "cells": [
  {
   "cell_type": "markdown",
   "metadata": {},
   "source": [
    "# Assignment 1: Data Sharing with Encryption\n",
    "### Security and Privacy Project - MECD (2022/2023)\n",
    "\n",
    "### Autores\n",
    "\n",
    "- Duarte Meneses - 2019216949\n",
    "- Patricia Costa - 2019213995\n",
    "\n",
    "### **ControlerER**"
   ]
  },
  {
   "cell_type": "code",
   "execution_count": null,
   "metadata": {},
   "outputs": [],
   "source": [
    "%pip install cryptography\n",
    "!pip uninstall pycrypto -y\n",
    "!pip3 install pycryptodome pmlb"
   ]
  },
  {
   "cell_type": "code",
   "execution_count": 2,
   "metadata": {},
   "outputs": [],
   "source": [
    "from cryptography.hazmat.backends import default_backend\n",
    "from cryptography.hazmat.primitives import hashes\n",
    "from cryptography.hazmat.primitives.asymmetric import padding\n",
    "from cryptography.hazmat.primitives.asymmetric import dh\n",
    "from cryptography.hazmat.primitives.serialization import Encoding, ParameterFormat, PublicFormat\n",
    "from cryptography.hazmat.primitives.serialization import load_pem_parameters, load_pem_public_key\n",
    "from cryptography.hazmat.primitives.kdf.hkdf import HKDF"
   ]
  },
  {
   "cell_type": "markdown",
   "metadata": {},
   "source": [
    "### Key exchange"
   ]
  },
  {
   "cell_type": "code",
   "execution_count": null,
   "metadata": {},
   "outputs": [],
   "source": [
    "%%time\n",
    "#1\n",
    "\n",
    "parameters = dh.generate_parameters(generator=2, key_size=1024, backend=default_backend())\n",
    "\n",
    "with open(\"shared_file\", \"wb\") as file:\n",
    "    file.write(parameters.parameter_bytes(encoding=Encoding.PEM, format=ParameterFormat.PKCS3))"
   ]
  },
  {
   "cell_type": "code",
   "execution_count": null,
   "metadata": {},
   "outputs": [],
   "source": [
    "%%time\n",
    "#3\n",
    "\n",
    "with open (\"shared_file\", \"rb\") as file:\n",
    "    public_mixed_with_D = load_pem_public_key(file.read()) \n",
    "\n",
    "private_key_C = parameters.generate_private_key()\n",
    "public_mixed_with_C  = private_key_C.public_key()\n",
    "\n",
    "with open(\"shared_file\", \"wb\") as file:\n",
    "    file.write(public_mixed_with_C.public_bytes(encoding=Encoding.PEM, format=PublicFormat.SubjectPublicKeyInfo))"
   ]
  },
  {
   "cell_type": "code",
   "execution_count": null,
   "metadata": {},
   "outputs": [],
   "source": [
    "%%time\n",
    "#6\n",
    "\n",
    "shared_key_D_then_C = private_key_C.exchange(public_mixed_with_D)\n",
    "\n",
    "derived_key_D_then_C = HKDF(\n",
    "    algorithm = hashes.SHA256(),\n",
    "    length=32,\n",
    "    salt=None,\n",
    "    info=b'handshake data',\n",
    "    backend=default_backend()\n",
    ").derive(shared_key_D_then_C)"
   ]
  },
  {
   "cell_type": "markdown",
   "metadata": {},
   "source": [
    "### Encryption without Integrity and Authenticity "
   ]
  },
  {
   "cell_type": "code",
   "execution_count": 14,
   "metadata": {},
   "outputs": [],
   "source": [
    "from Crypto.Cipher import AES\n",
    "from Crypto.Util import Counter"
   ]
  },
  {
   "cell_type": "code",
   "execution_count": null,
   "metadata": {},
   "outputs": [],
   "source": [
    "%%time\n",
    "#1\n",
    "\n",
    "def encrypt_csv_ctr(file_name, civ, counter_size=128):\n",
    "    \n",
    "    counter = Counter.new(counter_size, initial_value=civ)\n",
    "    \n",
    "    aes = AES.new(derived_key_D_then_C, mode=AES.MODE_CTR, counter=counter)\n",
    "\n",
    "    with open(file_name, 'rb') as file:\n",
    "        csv_data = file.read()\n",
    "        encrypted_csv = aes.encrypt(csv_data)\n",
    "    return encrypted_csv\n",
    "\n",
    "columns_desc_enc = encrypt_csv_ctr(\"data/columns_description-CORRECTED.csv\", 10)\n",
    "\n",
    "with open(\"shared_file\", \"wb\") as file:\n",
    "    file.write(columns_desc_enc)"
   ]
  },
  {
   "cell_type": "code",
   "execution_count": null,
   "metadata": {},
   "outputs": [],
   "source": [
    "%%time\n",
    "#4\n",
    "\n",
    "infringement_dataset_enc = encrypt_csv_ctr(\"data/infringement_dataset.csv\", 10)\n",
    "\n",
    "with open(\"shared_file\", \"wb\") as file:\n",
    "    file.write(infringement_dataset_enc)"
   ]
  },
  {
   "cell_type": "markdown",
   "metadata": {},
   "source": [
    "### Encryption with Integrity and Authenticity "
   ]
  },
  {
   "cell_type": "code",
   "execution_count": 6,
   "metadata": {},
   "outputs": [],
   "source": [
    "import os\n",
    "from cryptography.hazmat.primitives.ciphers.aead import AESGCM"
   ]
  },
  {
   "cell_type": "code",
   "execution_count": null,
   "metadata": {},
   "outputs": [],
   "source": [
    "%%time\n",
    "#1\n",
    "\n",
    "with open(\"data/columns_description-CORRECTED.csv\", 'rb') as file:\n",
    "        columns_desc = file.read()\n",
    "\n",
    "aesgcm = AESGCM(derived_key_D_then_C)\n",
    "\n",
    "nonce = os.urandom(12)\n",
    "columns_desc_enc = aesgcm.encrypt(nonce, columns_desc, None)\n",
    "\n",
    "with open(\"shared_file\", \"wb\") as file:\n",
    "    file.write(columns_desc_enc)"
   ]
  },
  {
   "cell_type": "code",
   "execution_count": null,
   "metadata": {},
   "outputs": [],
   "source": [
    "%%time\n",
    "#3\n",
    "\n",
    "with open(\"shared_file\", \"wb\") as file:\n",
    "    file.write(nonce)"
   ]
  },
  {
   "cell_type": "code",
   "execution_count": null,
   "metadata": {},
   "outputs": [],
   "source": [
    "%%time\n",
    "#5\n",
    "\n",
    "with open(\"data/infringement_dataset.csv\", 'rb') as file:\n",
    "        infringement_dataset = file.read()\n",
    "\n",
    "nonce = os.urandom(12)\n",
    "infringement_dataset_enc = aesgcm.encrypt(nonce, infringement_dataset, None) # your code here\n",
    "\n",
    "with open(\"shared_file\", \"wb\") as file:\n",
    "    file.write(infringement_dataset_enc)"
   ]
  },
  {
   "cell_type": "code",
   "execution_count": null,
   "metadata": {},
   "outputs": [],
   "source": [
    "%%time\n",
    "#7\n",
    "\n",
    "with open(\"shared_file\", \"wb\") as file:\n",
    "    file.write(nonce)"
   ]
  }
 ],
 "metadata": {
  "kernelspec": {
   "display_name": "Python 3.10.8 64-bit (microsoft store)",
   "language": "python",
   "name": "python3"
  },
  "language_info": {
   "codemirror_mode": {
    "name": "ipython",
    "version": 3
   },
   "file_extension": ".py",
   "mimetype": "text/x-python",
   "name": "python",
   "nbconvert_exporter": "python",
   "pygments_lexer": "ipython3",
   "version": "3.10.8"
  },
  "orig_nbformat": 4,
  "vscode": {
   "interpreter": {
    "hash": "58d2fab551b77ab6a1011cdefbe01fbf0eeaad475137b17febcda9139d0af297"
   }
  }
 },
 "nbformat": 4,
 "nbformat_minor": 2
}
