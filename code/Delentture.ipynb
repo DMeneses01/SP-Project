{
 "cells": [
  {
   "cell_type": "code",
   "execution_count": null,
   "metadata": {},
   "outputs": [],
   "source": [
    "%pip install cryptography"
   ]
  },
  {
   "cell_type": "code",
   "execution_count": null,
   "metadata": {},
   "outputs": [],
   "source": [
    "from cryptography.hazmat.backends import default_backend\n",
    "from cryptography.hazmat.primitives import hashes\n",
    "from cryptography.hazmat.primitives.serialization import Encoding, ParameterFormat, PublicFormat\n",
    "from cryptography.hazmat.primitives.serialization import load_pem_parameters, load_pem_public_key\n",
    "from cryptography.hazmat.primitives.kdf.hkdf import HKDF"
   ]
  },
  {
   "cell_type": "code",
   "execution_count": 3,
   "metadata": {},
   "outputs": [],
   "source": [
    "with open (\"shared_file\", \"rb\") as file:\n",
    "    parameters = load_pem_parameters(file.read()) "
   ]
  },
  {
   "cell_type": "code",
   "execution_count": 4,
   "metadata": {},
   "outputs": [],
   "source": [
    "private_key_D = parameters.generate_private_key() # Blue\n",
    "public_mixed_with_D = private_key_D.public_key()  # light-blue-green\n",
    "\n",
    "with open(\"shared_file\", \"wb\") as file:\n",
    "    file.write(public_mixed_with_D.public_bytes(encoding=Encoding.PEM, format=PublicFormat.SubjectPublicKeyInfo))"
   ]
  },
  {
   "cell_type": "code",
   "execution_count": 5,
   "metadata": {},
   "outputs": [],
   "source": [
    "with open (\"shared_file\", \"rb\") as file:\n",
    "    public_mixed_with_C = load_pem_public_key(file.read()) "
   ]
  },
  {
   "cell_type": "code",
   "execution_count": 6,
   "metadata": {},
   "outputs": [
    {
     "name": "stdout",
     "output_type": "stream",
     "text": [
      "b'\\xdfm\\xc0\\x9d\\x03\\xbc\\xa7\\xb4\\xaeU\\xf2\\xf0\\x1eQ\\x8d}ty\\xc4\\xd9\\xc5\\xaf\\x1a\\xd9\\x10JW\\t=:\\x9e\\x1d'\n"
     ]
    }
   ],
   "source": [
    "shared_key_C_then_D = private_key_D.exchange(public_mixed_with_C) # brown\n",
    "\n",
    "derived_key_C_then_D = HKDF(\n",
    "    algorithm = hashes.SHA256(),\n",
    "    length=32,\n",
    "    salt=None,\n",
    "    info=b'handshake data',\n",
    "    backend=default_backend()\n",
    ").derive(shared_key_C_then_D)\n",
    "\n",
    "print(derived_key_C_then_D)"
   ]
  },
  {
   "cell_type": "markdown",
   "metadata": {},
   "source": [
    "### Decryption without Integrity and Authenticity"
   ]
  },
  {
   "cell_type": "code",
   "execution_count": 23,
   "metadata": {},
   "outputs": [],
   "source": [
    "from Crypto.Cipher import AES\n",
    "from Crypto.Util import Counter\n",
    "from io import StringIO\n",
    "import pandas as pd"
   ]
  },
  {
   "cell_type": "code",
   "execution_count": 24,
   "metadata": {},
   "outputs": [],
   "source": [
    "with open (\"shared_file\", \"rb\") as file:\n",
    "    columns_desc_enc = file.read()"
   ]
  },
  {
   "cell_type": "code",
   "execution_count": null,
   "metadata": {},
   "outputs": [],
   "source": [
    "def decrypt_csv_ctr(ct, key, counter_iv, counter_size=128):\n",
    "    counter = Counter.new(counter_size, initial_value=counter_iv)    \n",
    "    aes = AES.new(key=key, mode=AES.MODE_CTR, counter=counter)\n",
    "    return aes.decrypt(ct)\n",
    "\n",
    "pd.read_csv(StringIO(decrypt_csv_ctr(columns_desc_enc, derived_key_C_then_D, 10).decode('utf-8')))"
   ]
  },
  {
   "cell_type": "code",
   "execution_count": null,
   "metadata": {},
   "outputs": [],
   "source": [
    "with open (\"shared_file\", \"rb\") as file:\n",
    "    infringement_dataset_enc = file.read()\n",
    "\n",
    "pd.read_csv(StringIO(decrypt_csv_ctr(infringement_dataset_enc, derived_key_C_then_D, 10).decode('utf-8')))"
   ]
  },
  {
   "cell_type": "markdown",
   "metadata": {},
   "source": [
    "### Decryption with Integrity and Authenticity"
   ]
  },
  {
   "cell_type": "code",
   "execution_count": 33,
   "metadata": {},
   "outputs": [],
   "source": [
    "from cryptography.hazmat.primitives.ciphers.aead import AESGCM\n",
    "from io import StringIO\n",
    "import pandas as pd"
   ]
  },
  {
   "cell_type": "code",
   "execution_count": 34,
   "metadata": {},
   "outputs": [],
   "source": [
    "with open (\"shared_file\", \"rb\") as file:\n",
    "    columns_desc_enc = file.read()"
   ]
  },
  {
   "cell_type": "code",
   "execution_count": null,
   "metadata": {},
   "outputs": [],
   "source": [
    "with open (\"shared_file\", \"rb\") as file:\n",
    "    nonce = file.read()\n",
    "\n",
    "aesgcm = AESGCM(derived_key_C_then_D)\n",
    "pd.read_csv(StringIO(aesgcm.decrypt(nonce, columns_desc_enc, None).decode(\"utf-8\")))"
   ]
  },
  {
   "cell_type": "code",
   "execution_count": null,
   "metadata": {},
   "outputs": [],
   "source": [
    "with open (\"shared_file\", \"rb\") as file:\n",
    "    infringement_dataset_enc = file.read()"
   ]
  },
  {
   "cell_type": "code",
   "execution_count": null,
   "metadata": {},
   "outputs": [],
   "source": [
    "with open (\"shared_file\", \"rb\") as file:\n",
    "    nonce = file.read()\n",
    "\n",
    "pd.read_csv(StringIO(aesgcm.decrypt(nonce, infringement_dataset_enc, None).decode(\"utf-8\")))"
   ]
  }
 ],
 "metadata": {
  "kernelspec": {
   "display_name": "Python 3.9.12 ('base')",
   "language": "python",
   "name": "python3"
  },
  "language_info": {
   "codemirror_mode": {
    "name": "ipython",
    "version": 3
   },
   "file_extension": ".py",
   "mimetype": "text/x-python",
   "name": "python",
   "nbconvert_exporter": "python",
   "pygments_lexer": "ipython3",
   "version": "3.9.12"
  },
  "orig_nbformat": 4,
  "vscode": {
   "interpreter": {
    "hash": "69d74384aa76d343bb359f062cb72694a1a85a4dab3a55db2bb23019c1d352ec"
   }
  }
 },
 "nbformat": 4,
 "nbformat_minor": 2
}
