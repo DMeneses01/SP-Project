{
 "cells": [
  {
   "cell_type": "markdown",
   "metadata": {},
   "source": [
    "# MECD SP - Assignment 1\n",
    "\n",
    "The code in this notebook are to be used in the scope of the _MECD SP_ course.\n",
    "\n",
    "**Important:** these sources are merely an example of implementation, to simplify the comunication between the two parties.\n",
    "You should modify everything you deem as necessary and be responsible for all the content that is delivered.\n",
    "\n",
    "\n",
    "_The contents of this notebook do not replace the proper reading of the assignment description._\n",
    "\n",
    "\n",
    "----\n",
    "\n",
    "\n",
    "The code below corresponds to a sender party, while the receiving party is implemented in a second notebook.\n",
    "The global order of the instructions is marked in the description, with the code (#).\n",
    "\n"
   ]
  },
  {
   "cell_type": "markdown",
   "metadata": {},
   "source": [
    "(1) Write some bytes to a text file"
   ]
  },
  {
   "cell_type": "code",
   "execution_count": 1,
   "metadata": {},
   "outputs": [],
   "source": [
    "bytes_data = b\"hello world\"\n",
    "with open('shared_file', 'wb') as f:\n",
    "    f.write(bytes_data)\n",
    "    f.close()"
   ]
  },
  {
   "cell_type": "markdown",
   "metadata": {},
   "source": [
    "(4) Read data after it was written in the other notebook"
   ]
  },
  {
   "cell_type": "code",
   "execution_count": 2,
   "metadata": {},
   "outputs": [
    {
     "name": "stdout",
     "output_type": "stream",
     "text": [
      "b'hello world'\n"
     ]
    }
   ],
   "source": [
    "with open('shared_file', 'rb') as f:\n",
    "    print(f.read())"
   ]
  },
  {
   "cell_type": "code",
   "execution_count": null,
   "metadata": {},
   "outputs": [],
   "source": []
  }
 ],
 "metadata": {
  "kernelspec": {
   "display_name": "Python 3.10.7 64-bit (microsoft store)",
   "language": "python",
   "name": "python3"
  },
  "language_info": {
   "codemirror_mode": {
    "name": "ipython",
    "version": 3
   },
   "file_extension": ".py",
   "mimetype": "text/x-python",
   "name": "python",
   "nbconvert_exporter": "python",
   "pygments_lexer": "ipython3",
   "version": "3.10.7"
  },
  "vscode": {
   "interpreter": {
    "hash": "2ef7de44003ab83a6fc295261b67a3a67bb73f409d6b59ff2ac452127fcd309c"
   }
  }
 },
 "nbformat": 4,
 "nbformat_minor": 4
}
