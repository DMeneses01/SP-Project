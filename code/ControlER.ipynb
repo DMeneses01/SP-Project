{
 "cells": [
  {
   "cell_type": "code",
   "execution_count": 1,
   "metadata": {},
   "outputs": [
    {
     "name": "stdout",
     "output_type": "stream",
     "text": [
      "Requirement already satisfied: cryptography in c:\\users\\pcost\\appdata\\local\\packages\\pythonsoftwarefoundation.python.3.10_qbz5n2kfra8p0\\localcache\\local-packages\\python310\\site-packages (38.0.1)\n",
      "Requirement already satisfied: cffi>=1.12 in c:\\users\\pcost\\appdata\\local\\packages\\pythonsoftwarefoundation.python.3.10_qbz5n2kfra8p0\\localcache\\local-packages\\python310\\site-packages (from cryptography) (1.15.1)\n",
      "Requirement already satisfied: pycparser in c:\\users\\pcost\\appdata\\local\\packages\\pythonsoftwarefoundation.python.3.10_qbz5n2kfra8p0\\localcache\\local-packages\\python310\\site-packages (from cffi>=1.12->cryptography) (2.21)\n",
      "Note: you may need to restart the kernel to use updated packages.\n"
     ]
    },
    {
     "name": "stderr",
     "output_type": "stream",
     "text": [
      "WARNING: Skipping pycrypto as it is not installed.\n"
     ]
    },
    {
     "name": "stdout",
     "output_type": "stream",
     "text": [
      "Requirement already satisfied: pycryptodome in c:\\users\\pcost\\appdata\\local\\packages\\pythonsoftwarefoundation.python.3.10_qbz5n2kfra8p0\\localcache\\local-packages\\python310\\site-packages (3.15.0)\n",
      "Requirement already satisfied: pmlb in c:\\users\\pcost\\appdata\\local\\packages\\pythonsoftwarefoundation.python.3.10_qbz5n2kfra8p0\\localcache\\local-packages\\python310\\site-packages (1.0.1.post3)\n",
      "Requirement already satisfied: pyyaml>=5.3.1 in c:\\users\\pcost\\appdata\\local\\packages\\pythonsoftwarefoundation.python.3.10_qbz5n2kfra8p0\\localcache\\local-packages\\python310\\site-packages (from pmlb) (6.0)\n",
      "Requirement already satisfied: requests>=2.24.0 in c:\\users\\pcost\\appdata\\local\\packages\\pythonsoftwarefoundation.python.3.10_qbz5n2kfra8p0\\localcache\\local-packages\\python310\\site-packages (from pmlb) (2.28.1)\n",
      "Requirement already satisfied: pandas>=1.0.5 in c:\\users\\pcost\\appdata\\local\\packages\\pythonsoftwarefoundation.python.3.10_qbz5n2kfra8p0\\localcache\\local-packages\\python310\\site-packages (from pmlb) (1.5.0)\n",
      "Requirement already satisfied: numpy>=1.21.0 in c:\\users\\pcost\\appdata\\local\\packages\\pythonsoftwarefoundation.python.3.10_qbz5n2kfra8p0\\localcache\\local-packages\\python310\\site-packages (from pandas>=1.0.5->pmlb) (1.23.3)\n",
      "Requirement already satisfied: python-dateutil>=2.8.1 in c:\\users\\pcost\\appdata\\local\\packages\\pythonsoftwarefoundation.python.3.10_qbz5n2kfra8p0\\localcache\\local-packages\\python310\\site-packages (from pandas>=1.0.5->pmlb) (2.8.2)\n",
      "Requirement already satisfied: pytz>=2020.1 in c:\\users\\pcost\\appdata\\local\\packages\\pythonsoftwarefoundation.python.3.10_qbz5n2kfra8p0\\localcache\\local-packages\\python310\\site-packages (from pandas>=1.0.5->pmlb) (2022.4)\n",
      "Requirement already satisfied: certifi>=2017.4.17 in c:\\users\\pcost\\appdata\\local\\packages\\pythonsoftwarefoundation.python.3.10_qbz5n2kfra8p0\\localcache\\local-packages\\python310\\site-packages (from requests>=2.24.0->pmlb) (2022.9.24)\n",
      "Requirement already satisfied: idna<4,>=2.5 in c:\\users\\pcost\\appdata\\local\\packages\\pythonsoftwarefoundation.python.3.10_qbz5n2kfra8p0\\localcache\\local-packages\\python310\\site-packages (from requests>=2.24.0->pmlb) (3.4)\n",
      "Requirement already satisfied: urllib3<1.27,>=1.21.1 in c:\\users\\pcost\\appdata\\local\\packages\\pythonsoftwarefoundation.python.3.10_qbz5n2kfra8p0\\localcache\\local-packages\\python310\\site-packages (from requests>=2.24.0->pmlb) (1.26.12)\n",
      "Requirement already satisfied: charset-normalizer<3,>=2 in c:\\users\\pcost\\appdata\\local\\packages\\pythonsoftwarefoundation.python.3.10_qbz5n2kfra8p0\\localcache\\local-packages\\python310\\site-packages (from requests>=2.24.0->pmlb) (2.1.1)\n",
      "Requirement already satisfied: six>=1.5 in c:\\users\\pcost\\appdata\\local\\packages\\pythonsoftwarefoundation.python.3.10_qbz5n2kfra8p0\\localcache\\local-packages\\python310\\site-packages (from python-dateutil>=2.8.1->pandas>=1.0.5->pmlb) (1.16.0)\n"
     ]
    }
   ],
   "source": [
    "%pip install cryptography\n",
    "!pip uninstall pycrypto -y\n",
    "!pip3 install pycryptodome pmlb"
   ]
  },
  {
   "cell_type": "code",
   "execution_count": 2,
   "metadata": {},
   "outputs": [],
   "source": [
    "from cryptography.hazmat.backends import default_backend\n",
    "from cryptography.hazmat.primitives import hashes\n",
    "from cryptography.hazmat.primitives.asymmetric import padding\n",
    "from cryptography.hazmat.primitives.asymmetric import dh\n",
    "from cryptography.hazmat.primitives.serialization import Encoding, ParameterFormat, PublicFormat\n",
    "from cryptography.hazmat.primitives.serialization import load_pem_parameters, load_pem_public_key\n",
    "from cryptography.hazmat.primitives.kdf.hkdf import HKDF"
   ]
  },
  {
   "cell_type": "markdown",
   "metadata": {},
   "source": [
    "### Key exchange"
   ]
  },
  {
   "cell_type": "code",
   "execution_count": 3,
   "metadata": {},
   "outputs": [],
   "source": [
    "parameters = dh.generate_parameters(generator=2, key_size=1024, backend=default_backend())\n",
    "\n",
    "with open(\"shared_file\", \"wb\") as file:\n",
    "    file.write(parameters.parameter_bytes(encoding=Encoding.PEM, format=ParameterFormat.PKCS3))"
   ]
  },
  {
   "cell_type": "code",
   "execution_count": 4,
   "metadata": {},
   "outputs": [],
   "source": [
    "with open (\"shared_file\", \"rb\") as file:\n",
    "    public_mixed_with_D = load_pem_public_key(file.read()) \n",
    "\n",
    "private_key_C = parameters.generate_private_key() # red\n",
    "public_mixed_with_C  = private_key_C.public_key()  #orange\n",
    "\n",
    "with open(\"shared_file\", \"wb\") as file:\n",
    "    file.write(public_mixed_with_C.public_bytes(encoding=Encoding.PEM, format=PublicFormat.SubjectPublicKeyInfo))"
   ]
  },
  {
   "cell_type": "code",
   "execution_count": 5,
   "metadata": {},
   "outputs": [
    {
     "name": "stdout",
     "output_type": "stream",
     "text": [
      "b'\\xaf8Z5\\xf23\\xfa\\x95\\xdb\\x9c\\xba\\xf4\\x81\\x95)\\xf7\\xf3\\x850\\xcc\\xa4\\xaal\\xa9\\xdb\\x07y\\xd5\\xb9~\\xcd\\x13'\n"
     ]
    }
   ],
   "source": [
    "shared_key_D_then_C = private_key_C.exchange(public_mixed_with_D) # brown\n",
    "\n",
    "derived_key_D_then_C = HKDF(\n",
    "    algorithm = hashes.SHA256(),\n",
    "    length=32,\n",
    "    salt=None,\n",
    "    info=b'handshake data',\n",
    "    backend=default_backend()\n",
    ").derive(shared_key_D_then_C)\n",
    "\n",
    "print(derived_key_D_then_C)"
   ]
  },
  {
   "cell_type": "markdown",
   "metadata": {},
   "source": [
    "### Encryption without Integrity and Authenticity "
   ]
  },
  {
   "cell_type": "code",
   "execution_count": 32,
   "metadata": {},
   "outputs": [],
   "source": [
    "from Crypto.Cipher import AES\n",
    "from Crypto.Util import Counter"
   ]
  },
  {
   "cell_type": "code",
   "execution_count": 33,
   "metadata": {},
   "outputs": [],
   "source": [
    "def encrypt_csv_ctr(file_name, civ, counter_size=128):\n",
    "    \n",
    "    counter = Counter.new(counter_size, initial_value=civ)\n",
    "    \n",
    "    aes = AES.new(derived_key_D_then_C, mode=AES.MODE_CTR, counter=counter)\n",
    "\n",
    "    with open(file_name, 'rb') as file:\n",
    "        csv_data = file.read()\n",
    "        encrypted_csv = aes.encrypt(csv_data)\n",
    "    return encrypted_csv\n",
    "\n",
    "columns_desc_enc = encrypt_csv_ctr(\"data/columns_description-CORRECTED.csv\", 10)\n",
    "\n",
    "with open(\"shared_file\", \"wb\") as file:\n",
    "    file.write(columns_desc_enc)"
   ]
  },
  {
   "cell_type": "code",
   "execution_count": null,
   "metadata": {},
   "outputs": [],
   "source": [
    "infringement_dataset_enc = encrypt_csv_ctr(\"data/infringement_dataset.csv\", 10)\n",
    "\n",
    "with open(\"shared_file\", \"wb\") as file:\n",
    "    file.write(infringement_dataset_enc)"
   ]
  },
  {
   "cell_type": "markdown",
   "metadata": {},
   "source": [
    "### Encryption with Integrity and Authenticity "
   ]
  },
  {
   "cell_type": "code",
   "execution_count": 38,
   "metadata": {},
   "outputs": [],
   "source": [
    "import os\n",
    "from cryptography.hazmat.primitives.ciphers.aead import AESGCM"
   ]
  },
  {
   "cell_type": "code",
   "execution_count": 39,
   "metadata": {},
   "outputs": [],
   "source": [
    "with open(\"data/columns_description-CORRECTED.csv\", 'rb') as file:\n",
    "        columns_desc = file.read()\n",
    "\n",
    "aesgcm = AESGCM(derived_key_D_then_C)\n",
    "\n",
    "nonce = os.urandom(12)\n",
    "columns_desc_enc = aesgcm.encrypt(nonce, columns_desc, None) # your code here\n",
    "\n",
    "with open(\"shared_file\", \"wb\") as file:\n",
    "    file.write(columns_desc_enc)"
   ]
  },
  {
   "cell_type": "code",
   "execution_count": 40,
   "metadata": {},
   "outputs": [],
   "source": [
    "with open(\"shared_file\", \"wb\") as file:\n",
    "    file.write(nonce)"
   ]
  },
  {
   "cell_type": "code",
   "execution_count": null,
   "metadata": {},
   "outputs": [],
   "source": [
    "with open(\"data/infringement_dataset.csv\", 'rb') as file:\n",
    "        infringement_dataset = file.read()\n",
    "\n",
    "nonce = os.urandom(12)\n",
    "infringement_dataset_enc = aesgcm.encrypt(nonce, infringement_dataset, None) # your code here\n",
    "\n",
    "with open(\"shared_file\", \"wb\") as file:\n",
    "    file.write(infringement_dataset_enc)"
   ]
  },
  {
   "cell_type": "code",
   "execution_count": null,
   "metadata": {},
   "outputs": [],
   "source": [
    "with open(\"shared_file\", \"wb\") as file:\n",
    "    file.write(nonce)"
   ]
  }
 ],
 "metadata": {
  "kernelspec": {
   "display_name": "Python 3.10.7 64-bit (microsoft store)",
   "language": "python",
   "name": "python3"
  },
  "language_info": {
   "codemirror_mode": {
    "name": "ipython",
    "version": 3
   },
   "file_extension": ".py",
   "mimetype": "text/x-python",
   "name": "python",
   "nbconvert_exporter": "python",
   "pygments_lexer": "ipython3",
   "version": "3.10.7"
  },
  "orig_nbformat": 4,
  "vscode": {
   "interpreter": {
    "hash": "58d2fab551b77ab6a1011cdefbe01fbf0eeaad475137b17febcda9139d0af297"
   }
  }
 },
 "nbformat": 4,
 "nbformat_minor": 2
}
