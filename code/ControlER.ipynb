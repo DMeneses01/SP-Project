{
 "cells": [
  {
   "cell_type": "code",
   "execution_count": 74,
   "metadata": {},
   "outputs": [
    {
     "name": "stdout",
     "output_type": "stream",
     "text": [
      "Requirement already satisfied: cryptography in c:\\users\\emanu\\anaconda3\\lib\\site-packages (3.4.8)\n",
      "Requirement already satisfied: cffi>=1.12 in c:\\users\\emanu\\anaconda3\\lib\\site-packages (from cryptography) (1.15.0)\n",
      "Requirement already satisfied: pycparser in c:\\users\\emanu\\anaconda3\\lib\\site-packages (from cffi>=1.12->cryptography) (2.21)\n",
      "Note: you may need to restart the kernel to use updated packages.\n"
     ]
    }
   ],
   "source": [
    "%pip install cryptography"
   ]
  },
  {
   "cell_type": "code",
   "execution_count": 15,
   "metadata": {},
   "outputs": [],
   "source": [
    "from cryptography.hazmat.backends import default_backend\n",
    "from cryptography.hazmat.primitives import hashes\n",
    "from cryptography.hazmat.primitives.asymmetric import padding\n",
    "from cryptography.hazmat.primitives.asymmetric import dh\n",
    "from cryptography.hazmat.primitives.serialization import Encoding, ParameterFormat, PublicFormat\n",
    "from cryptography.hazmat.primitives.serialization import load_pem_parameters, load_pem_public_key\n",
    "from cryptography.hazmat.primitives.kdf.hkdf import HKDF"
   ]
  },
  {
   "cell_type": "markdown",
   "metadata": {},
   "source": [
    "### Key exchange"
   ]
  },
  {
   "cell_type": "code",
   "execution_count": 16,
   "metadata": {},
   "outputs": [],
   "source": [
    "parameters = dh.generate_parameters(generator=2, key_size=1024, backend=default_backend())\n",
    "\n",
    "with open(\"shared_file\", \"wb\") as file:\n",
    "    file.write(parameters.parameter_bytes(encoding=Encoding.PEM, format=ParameterFormat.PKCS3))"
   ]
  },
  {
   "cell_type": "code",
   "execution_count": 17,
   "metadata": {},
   "outputs": [],
   "source": [
    "with open (\"shared_file\", \"rb\") as file:\n",
    "    public_mixed_with_D = load_pem_public_key(file.read()) \n",
    "\n",
    "private_key_C = parameters.generate_private_key() # red\n",
    "public_mixed_with_C  = private_key_C.public_key()  #orange\n",
    "\n",
    "with open(\"shared_file\", \"wb\") as file:\n",
    "    file.write(public_mixed_with_C.public_bytes(encoding=Encoding.PEM, format=PublicFormat.SubjectPublicKeyInfo))"
   ]
  },
  {
   "cell_type": "code",
   "execution_count": 18,
   "metadata": {},
   "outputs": [
    {
     "ename": "NameError",
     "evalue": "name 'HKDF' is not defined",
     "output_type": "error",
     "traceback": [
      "\u001b[1;31m---------------------------------------------------------------------------\u001b[0m",
      "\u001b[1;31mNameError\u001b[0m                                 Traceback (most recent call last)",
      "\u001b[1;32mc:\\Users\\emanu\\Universidade\\Mestrado\\1_Ano\\1_Semestre\\SP\\Projetos\\1\\SP-Project\\code\\ControlER.ipynb Cell 6\u001b[0m in \u001b[0;36m<cell line: 3>\u001b[1;34m()\u001b[0m\n\u001b[0;32m      <a href='vscode-notebook-cell:/c%3A/Users/emanu/Universidade/Mestrado/1_Ano/1_Semestre/SP/Projetos/1/SP-Project/code/ControlER.ipynb#X15sZmlsZQ%3D%3D?line=0'>1</a>\u001b[0m shared_key_D_then_C \u001b[39m=\u001b[39m private_key_C\u001b[39m.\u001b[39mexchange(public_mixed_with_D) \u001b[39m# brown\u001b[39;00m\n\u001b[1;32m----> <a href='vscode-notebook-cell:/c%3A/Users/emanu/Universidade/Mestrado/1_Ano/1_Semestre/SP/Projetos/1/SP-Project/code/ControlER.ipynb#X15sZmlsZQ%3D%3D?line=2'>3</a>\u001b[0m derived_key_D_then_C \u001b[39m=\u001b[39m HKDF(\n\u001b[0;32m      <a href='vscode-notebook-cell:/c%3A/Users/emanu/Universidade/Mestrado/1_Ano/1_Semestre/SP/Projetos/1/SP-Project/code/ControlER.ipynb#X15sZmlsZQ%3D%3D?line=3'>4</a>\u001b[0m     algorithm \u001b[39m=\u001b[39m hashes\u001b[39m.\u001b[39mSHA256(),\n\u001b[0;32m      <a href='vscode-notebook-cell:/c%3A/Users/emanu/Universidade/Mestrado/1_Ano/1_Semestre/SP/Projetos/1/SP-Project/code/ControlER.ipynb#X15sZmlsZQ%3D%3D?line=4'>5</a>\u001b[0m     length\u001b[39m=\u001b[39m\u001b[39m32\u001b[39m,\n\u001b[0;32m      <a href='vscode-notebook-cell:/c%3A/Users/emanu/Universidade/Mestrado/1_Ano/1_Semestre/SP/Projetos/1/SP-Project/code/ControlER.ipynb#X15sZmlsZQ%3D%3D?line=5'>6</a>\u001b[0m     salt\u001b[39m=\u001b[39m\u001b[39mNone\u001b[39;00m,\n\u001b[0;32m      <a href='vscode-notebook-cell:/c%3A/Users/emanu/Universidade/Mestrado/1_Ano/1_Semestre/SP/Projetos/1/SP-Project/code/ControlER.ipynb#X15sZmlsZQ%3D%3D?line=6'>7</a>\u001b[0m     info\u001b[39m=\u001b[39m\u001b[39mb\u001b[39m\u001b[39m'\u001b[39m\u001b[39mhandshake data\u001b[39m\u001b[39m'\u001b[39m,\n\u001b[0;32m      <a href='vscode-notebook-cell:/c%3A/Users/emanu/Universidade/Mestrado/1_Ano/1_Semestre/SP/Projetos/1/SP-Project/code/ControlER.ipynb#X15sZmlsZQ%3D%3D?line=7'>8</a>\u001b[0m     backend\u001b[39m=\u001b[39mdefault_backend()\n\u001b[0;32m      <a href='vscode-notebook-cell:/c%3A/Users/emanu/Universidade/Mestrado/1_Ano/1_Semestre/SP/Projetos/1/SP-Project/code/ControlER.ipynb#X15sZmlsZQ%3D%3D?line=8'>9</a>\u001b[0m )\u001b[39m.\u001b[39mderive(shared_key_D_then_C)\n\u001b[0;32m     <a href='vscode-notebook-cell:/c%3A/Users/emanu/Universidade/Mestrado/1_Ano/1_Semestre/SP/Projetos/1/SP-Project/code/ControlER.ipynb#X15sZmlsZQ%3D%3D?line=10'>11</a>\u001b[0m \u001b[39mprint\u001b[39m(derived_key_D_then_C)\n",
      "\u001b[1;31mNameError\u001b[0m: name 'HKDF' is not defined"
     ]
    }
   ],
   "source": [
    "shared_key_D_then_C = private_key_C.exchange(public_mixed_with_D) # brown\n",
    "\n",
    "derived_key_D_then_C = HKDF(\n",
    "    algorithm = hashes.SHA256(),\n",
    "    length=32,\n",
    "    salt=None,\n",
    "    info=b'handshake data',\n",
    "    backend=default_backend()\n",
    ").derive(shared_key_D_then_C)\n",
    "\n",
    "print(derived_key_D_then_C)"
   ]
  },
  {
   "cell_type": "code",
   "execution_count": 83,
   "metadata": {},
   "outputs": [
    {
     "name": "stdout",
     "output_type": "stream",
     "text": [
      "14\n"
     ]
    }
   ],
   "source": [
    "with open('shared_file', 'rb') as f:\n",
    "    public_key_d = f.read()\n",
    "    public_key_d = int.from_bytes(public_key_d, byteorder='big', signed=False)\n",
    "\n",
    "sC = (public_key_d**c)%P\n",
    "\n",
    "print(sC)"
   ]
  },
  {
   "cell_type": "markdown",
   "metadata": {},
   "source": [
    "### Encryption"
   ]
  },
  {
   "cell_type": "code",
   "execution_count": 2,
   "metadata": {},
   "outputs": [],
   "source": [
    "from cryptography.hazmat.primitives.asymmetric import rsa\n",
    "from cryptography.hazmat.primitives.asymmetric import padding\n",
    "from cryptography.hazmat.primitives import hashes\n",
    "from cryptography.hazmat.primitives import serialization\n",
    "from cryptography.hazmat.primitives.serialization import load_pem_public_key"
   ]
  },
  {
   "cell_type": "code",
   "execution_count": 7,
   "metadata": {},
   "outputs": [],
   "source": [
    "controler_private_key = rsa.generate_private_key(public_exponent= 65537, key_size= 8192)\n",
    "controler_public_key = controler_private_key.public_key()\n",
    "\n",
    "pem = controler_public_key.public_bytes(\n",
    "   encoding=serialization.Encoding.PEM,\n",
    "   format=serialization.PublicFormat.SubjectPublicKeyInfo\n",
    ")\n",
    "\n",
    "with open('shared_file', 'wb') as f:\n",
    "    f.write(pem)\n",
    "    f.close()"
   ]
  },
  {
   "cell_type": "code",
   "execution_count": 9,
   "metadata": {},
   "outputs": [],
   "source": [
    "with open(\"shared_file\", \"rb\") as file:\n",
    "    delentture_public_key = load_pem_public_key(file.read())"
   ]
  },
  {
   "cell_type": "code",
   "execution_count": 10,
   "metadata": {},
   "outputs": [],
   "source": [
    "with open(\"data/columns_description.csv\", 'r') as file:\n",
    "  columns_description = file.read()"
   ]
  },
  {
   "cell_type": "code",
   "execution_count": 11,
   "metadata": {},
   "outputs": [
    {
     "ename": "ValueError",
     "evalue": "Encryption/decryption failed.",
     "output_type": "error",
     "traceback": [
      "\u001b[1;31m---------------------------------------------------------------------------\u001b[0m",
      "\u001b[1;31mValueError\u001b[0m                                Traceback (most recent call last)",
      "\u001b[1;32mc:\\Users\\emanu\\Universidade\\Mestrado\\1_Ano\\1_Semestre\\SP\\Projetos\\1\\SP-Project\\code\\ControlER.ipynb Cell 11\u001b[0m in \u001b[0;36m<cell line: 3>\u001b[1;34m()\u001b[0m\n\u001b[0;32m      <a href='vscode-notebook-cell:/c%3A/Users/emanu/Universidade/Mestrado/1_Ano/1_Semestre/SP/Projetos/1/SP-Project/code/ControlER.ipynb#X13sZmlsZQ%3D%3D?line=0'>1</a>\u001b[0m padding_obj \u001b[39m=\u001b[39m padding\u001b[39m.\u001b[39mOAEP(mgf\u001b[39m=\u001b[39mpadding\u001b[39m.\u001b[39mMGF1(algorithm\u001b[39m=\u001b[39mhashes\u001b[39m.\u001b[39mSHA256()),algorithm\u001b[39m=\u001b[39mhashes\u001b[39m.\u001b[39mSHA256(),label\u001b[39m=\u001b[39m\u001b[39mNone\u001b[39;00m)\n\u001b[1;32m----> <a href='vscode-notebook-cell:/c%3A/Users/emanu/Universidade/Mestrado/1_Ano/1_Semestre/SP/Projetos/1/SP-Project/code/ControlER.ipynb#X13sZmlsZQ%3D%3D?line=2'>3</a>\u001b[0m encrypted_message \u001b[39m=\u001b[39m delentture_public_key\u001b[39m.\u001b[39;49mencrypt(columns_description\u001b[39m.\u001b[39;49mencode(), padding_obj)\n",
      "File \u001b[1;32mc:\\Users\\emanu\\anaconda3\\lib\\site-packages\\cryptography\\hazmat\\backends\\openssl\\rsa.py:528\u001b[0m, in \u001b[0;36m_RSAPublicKey.encrypt\u001b[1;34m(self, plaintext, padding)\u001b[0m\n\u001b[0;32m    527\u001b[0m \u001b[39mdef\u001b[39;00m \u001b[39mencrypt\u001b[39m(\u001b[39mself\u001b[39m, plaintext: \u001b[39mbytes\u001b[39m, padding: AsymmetricPadding) \u001b[39m-\u001b[39m\u001b[39m>\u001b[39m \u001b[39mbytes\u001b[39m:\n\u001b[1;32m--> 528\u001b[0m     \u001b[39mreturn\u001b[39;00m _enc_dec_rsa(\u001b[39mself\u001b[39;49m\u001b[39m.\u001b[39;49m_backend, \u001b[39mself\u001b[39;49m, plaintext, padding)\n",
      "File \u001b[1;32mc:\\Users\\emanu\\anaconda3\\lib\\site-packages\\cryptography\\hazmat\\backends\\openssl\\rsa.py:87\u001b[0m, in \u001b[0;36m_enc_dec_rsa\u001b[1;34m(backend, key, data, padding)\u001b[0m\n\u001b[0;32m     81\u001b[0m \u001b[39melse\u001b[39;00m:\n\u001b[0;32m     82\u001b[0m     \u001b[39mraise\u001b[39;00m UnsupportedAlgorithm(\n\u001b[0;32m     83\u001b[0m         \u001b[39m\"\u001b[39m\u001b[39m{}\u001b[39;00m\u001b[39m is not supported by this backend.\u001b[39m\u001b[39m\"\u001b[39m\u001b[39m.\u001b[39mformat(padding\u001b[39m.\u001b[39mname),\n\u001b[0;32m     84\u001b[0m         _Reasons\u001b[39m.\u001b[39mUNSUPPORTED_PADDING,\n\u001b[0;32m     85\u001b[0m     )\n\u001b[1;32m---> 87\u001b[0m \u001b[39mreturn\u001b[39;00m _enc_dec_rsa_pkey_ctx(backend, key, data, padding_enum, padding)\n",
      "File \u001b[1;32mc:\\Users\\emanu\\anaconda3\\lib\\site-packages\\cryptography\\hazmat\\backends\\openssl\\rsa.py:151\u001b[0m, in \u001b[0;36m_enc_dec_rsa_pkey_ctx\u001b[1;34m(backend, key, data, padding_enum, padding)\u001b[0m\n\u001b[0;32m    149\u001b[0m backend\u001b[39m.\u001b[39m_lib\u001b[39m.\u001b[39mERR_clear_error()\n\u001b[0;32m    150\u001b[0m \u001b[39mif\u001b[39;00m res \u001b[39m<\u001b[39m\u001b[39m=\u001b[39m \u001b[39m0\u001b[39m:\n\u001b[1;32m--> 151\u001b[0m     \u001b[39mraise\u001b[39;00m \u001b[39mValueError\u001b[39;00m(\u001b[39m\"\u001b[39m\u001b[39mEncryption/decryption failed.\u001b[39m\u001b[39m\"\u001b[39m)\n\u001b[0;32m    152\u001b[0m \u001b[39mreturn\u001b[39;00m resbuf\n",
      "\u001b[1;31mValueError\u001b[0m: Encryption/decryption failed."
     ]
    }
   ],
   "source": [
    "padding_obj = padding.OAEP(mgf=padding.MGF1(algorithm=hashes.SHA256()),algorithm=hashes.SHA256(),label=None)\n",
    "\n",
    "encrypted_message = delentture_public_key.encrypt(columns_description.encode(), padding_obj)"
   ]
  }
 ],
 "metadata": {
  "kernelspec": {
   "display_name": "Python 3.9.12 ('base')",
   "language": "python",
   "name": "python3"
  },
  "language_info": {
   "codemirror_mode": {
    "name": "ipython",
    "version": 3
   },
   "file_extension": ".py",
   "mimetype": "text/x-python",
   "name": "python",
   "nbconvert_exporter": "python",
   "pygments_lexer": "ipython3",
   "version": "3.9.12"
  },
  "orig_nbformat": 4,
  "vscode": {
   "interpreter": {
    "hash": "69d74384aa76d343bb359f062cb72694a1a85a4dab3a55db2bb23019c1d352ec"
   }
  }
 },
 "nbformat": 4,
 "nbformat_minor": 2
}
