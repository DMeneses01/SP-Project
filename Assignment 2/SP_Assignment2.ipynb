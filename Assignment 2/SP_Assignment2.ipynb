{
 "cells": [
  {
   "attachments": {},
   "cell_type": "markdown",
   "metadata": {},
   "source": [
    "# Assignment 2: Privacy-Preserving Data Sharing\n",
    "### Security and Privacy Project - MECD (2022/2023)\n",
    "\n",
    "### Autores\n",
    "\n",
    "- Duarte Meneses - 2019216949\n",
    "- Patricia Costa - 2019213995"
   ]
  },
  {
   "attachments": {},
   "cell_type": "markdown",
   "metadata": {},
   "source": [
    "### Import dataset"
   ]
  },
  {
   "cell_type": "code",
   "execution_count": 99,
   "metadata": {},
   "outputs": [
    {
     "data": {
      "text/html": [
       "<div>\n",
       "<style scoped>\n",
       "    .dataframe tbody tr th:only-of-type {\n",
       "        vertical-align: middle;\n",
       "    }\n",
       "\n",
       "    .dataframe tbody tr th {\n",
       "        vertical-align: top;\n",
       "    }\n",
       "\n",
       "    .dataframe thead th {\n",
       "        text-align: right;\n",
       "    }\n",
       "</style>\n",
       "<table border=\"1\" class=\"dataframe\">\n",
       "  <thead>\n",
       "    <tr style=\"text-align: right;\">\n",
       "      <th></th>\n",
       "      <th>loan_id</th>\n",
       "      <th>infringed</th>\n",
       "      <th>contract_type</th>\n",
       "      <th>gender</th>\n",
       "      <th>has_own_car</th>\n",
       "      <th>has_own_realty</th>\n",
       "      <th>num_children</th>\n",
       "      <th>annual_income</th>\n",
       "      <th>credit_amount</th>\n",
       "      <th>credit_annuity</th>\n",
       "      <th>...</th>\n",
       "      <th>first_name</th>\n",
       "      <th>last_name</th>\n",
       "      <th>past_avg_amount_annuity</th>\n",
       "      <th>past_avg_amt_application</th>\n",
       "      <th>past_avg_amt_credit</th>\n",
       "      <th>past_loans_approved</th>\n",
       "      <th>past_loans_refused</th>\n",
       "      <th>past_loans_canceled</th>\n",
       "      <th>past_loans_unused</th>\n",
       "      <th>past_loans_total</th>\n",
       "    </tr>\n",
       "  </thead>\n",
       "  <tbody>\n",
       "    <tr>\n",
       "      <th>0</th>\n",
       "      <td>100002</td>\n",
       "      <td>1</td>\n",
       "      <td>Cash loans</td>\n",
       "      <td>M</td>\n",
       "      <td>N</td>\n",
       "      <td>Y</td>\n",
       "      <td>0</td>\n",
       "      <td>202500.0</td>\n",
       "      <td>406597.5</td>\n",
       "      <td>24700.5</td>\n",
       "      <td>...</td>\n",
       "      <td>Robert</td>\n",
       "      <td>Watkins</td>\n",
       "      <td>9251.77500</td>\n",
       "      <td>179055.000</td>\n",
       "      <td>179055.00</td>\n",
       "      <td>1.0</td>\n",
       "      <td>0.0</td>\n",
       "      <td>0.0</td>\n",
       "      <td>0.0</td>\n",
       "      <td>1.0</td>\n",
       "    </tr>\n",
       "    <tr>\n",
       "      <th>1</th>\n",
       "      <td>100003</td>\n",
       "      <td>0</td>\n",
       "      <td>Cash loans</td>\n",
       "      <td>F</td>\n",
       "      <td>N</td>\n",
       "      <td>N</td>\n",
       "      <td>0</td>\n",
       "      <td>270000.0</td>\n",
       "      <td>1293502.5</td>\n",
       "      <td>35698.5</td>\n",
       "      <td>...</td>\n",
       "      <td>Jane</td>\n",
       "      <td>Navarro</td>\n",
       "      <td>56553.99000</td>\n",
       "      <td>435436.500</td>\n",
       "      <td>484191.00</td>\n",
       "      <td>3.0</td>\n",
       "      <td>0.0</td>\n",
       "      <td>0.0</td>\n",
       "      <td>0.0</td>\n",
       "      <td>3.0</td>\n",
       "    </tr>\n",
       "    <tr>\n",
       "      <th>2</th>\n",
       "      <td>100004</td>\n",
       "      <td>0</td>\n",
       "      <td>Revolving loans</td>\n",
       "      <td>M</td>\n",
       "      <td>Y</td>\n",
       "      <td>Y</td>\n",
       "      <td>0</td>\n",
       "      <td>67500.0</td>\n",
       "      <td>135000.0</td>\n",
       "      <td>6750.0</td>\n",
       "      <td>...</td>\n",
       "      <td>David</td>\n",
       "      <td>Seagraves</td>\n",
       "      <td>5357.25000</td>\n",
       "      <td>24282.000</td>\n",
       "      <td>20106.00</td>\n",
       "      <td>1.0</td>\n",
       "      <td>0.0</td>\n",
       "      <td>0.0</td>\n",
       "      <td>0.0</td>\n",
       "      <td>1.0</td>\n",
       "    </tr>\n",
       "    <tr>\n",
       "      <th>3</th>\n",
       "      <td>100006</td>\n",
       "      <td>0</td>\n",
       "      <td>Cash loans</td>\n",
       "      <td>F</td>\n",
       "      <td>N</td>\n",
       "      <td>Y</td>\n",
       "      <td>0</td>\n",
       "      <td>135000.0</td>\n",
       "      <td>312682.5</td>\n",
       "      <td>29686.5</td>\n",
       "      <td>...</td>\n",
       "      <td>Deborah</td>\n",
       "      <td>Tandy</td>\n",
       "      <td>23651.17500</td>\n",
       "      <td>272203.260</td>\n",
       "      <td>291695.50</td>\n",
       "      <td>5.0</td>\n",
       "      <td>3.0</td>\n",
       "      <td>1.0</td>\n",
       "      <td>0.0</td>\n",
       "      <td>9.0</td>\n",
       "    </tr>\n",
       "    <tr>\n",
       "      <th>4</th>\n",
       "      <td>100007</td>\n",
       "      <td>0</td>\n",
       "      <td>Cash loans</td>\n",
       "      <td>M</td>\n",
       "      <td>N</td>\n",
       "      <td>Y</td>\n",
       "      <td>0</td>\n",
       "      <td>121500.0</td>\n",
       "      <td>513000.0</td>\n",
       "      <td>21865.5</td>\n",
       "      <td>...</td>\n",
       "      <td>David</td>\n",
       "      <td>Walker</td>\n",
       "      <td>12278.80500</td>\n",
       "      <td>150530.250</td>\n",
       "      <td>166638.75</td>\n",
       "      <td>6.0</td>\n",
       "      <td>0.0</td>\n",
       "      <td>0.0</td>\n",
       "      <td>0.0</td>\n",
       "      <td>6.0</td>\n",
       "    </tr>\n",
       "    <tr>\n",
       "      <th>...</th>\n",
       "      <td>...</td>\n",
       "      <td>...</td>\n",
       "      <td>...</td>\n",
       "      <td>...</td>\n",
       "      <td>...</td>\n",
       "      <td>...</td>\n",
       "      <td>...</td>\n",
       "      <td>...</td>\n",
       "      <td>...</td>\n",
       "      <td>...</td>\n",
       "      <td>...</td>\n",
       "      <td>...</td>\n",
       "      <td>...</td>\n",
       "      <td>...</td>\n",
       "      <td>...</td>\n",
       "      <td>...</td>\n",
       "      <td>...</td>\n",
       "      <td>...</td>\n",
       "      <td>...</td>\n",
       "      <td>...</td>\n",
       "      <td>...</td>\n",
       "    </tr>\n",
       "    <tr>\n",
       "      <th>307506</th>\n",
       "      <td>456251</td>\n",
       "      <td>0</td>\n",
       "      <td>Cash loans</td>\n",
       "      <td>M</td>\n",
       "      <td>N</td>\n",
       "      <td>N</td>\n",
       "      <td>0</td>\n",
       "      <td>157500.0</td>\n",
       "      <td>254700.0</td>\n",
       "      <td>27558.0</td>\n",
       "      <td>...</td>\n",
       "      <td>Lawrence</td>\n",
       "      <td>Mcwayne</td>\n",
       "      <td>6605.91000</td>\n",
       "      <td>40455.000</td>\n",
       "      <td>40455.00</td>\n",
       "      <td>1.0</td>\n",
       "      <td>0.0</td>\n",
       "      <td>0.0</td>\n",
       "      <td>0.0</td>\n",
       "      <td>1.0</td>\n",
       "    </tr>\n",
       "    <tr>\n",
       "      <th>307507</th>\n",
       "      <td>456252</td>\n",
       "      <td>0</td>\n",
       "      <td>Cash loans</td>\n",
       "      <td>F</td>\n",
       "      <td>N</td>\n",
       "      <td>Y</td>\n",
       "      <td>0</td>\n",
       "      <td>72000.0</td>\n",
       "      <td>269550.0</td>\n",
       "      <td>12001.5</td>\n",
       "      <td>...</td>\n",
       "      <td>Belinda</td>\n",
       "      <td>Loveland</td>\n",
       "      <td>10074.46500</td>\n",
       "      <td>57595.500</td>\n",
       "      <td>56821.50</td>\n",
       "      <td>1.0</td>\n",
       "      <td>0.0</td>\n",
       "      <td>0.0</td>\n",
       "      <td>0.0</td>\n",
       "      <td>1.0</td>\n",
       "    </tr>\n",
       "    <tr>\n",
       "      <th>307508</th>\n",
       "      <td>456253</td>\n",
       "      <td>0</td>\n",
       "      <td>Cash loans</td>\n",
       "      <td>F</td>\n",
       "      <td>N</td>\n",
       "      <td>Y</td>\n",
       "      <td>0</td>\n",
       "      <td>153000.0</td>\n",
       "      <td>677664.0</td>\n",
       "      <td>29979.0</td>\n",
       "      <td>...</td>\n",
       "      <td>Aileen</td>\n",
       "      <td>Rasmussen</td>\n",
       "      <td>4770.40500</td>\n",
       "      <td>24162.750</td>\n",
       "      <td>20625.75</td>\n",
       "      <td>2.0</td>\n",
       "      <td>0.0</td>\n",
       "      <td>0.0</td>\n",
       "      <td>0.0</td>\n",
       "      <td>2.0</td>\n",
       "    </tr>\n",
       "    <tr>\n",
       "      <th>307509</th>\n",
       "      <td>456254</td>\n",
       "      <td>1</td>\n",
       "      <td>Cash loans</td>\n",
       "      <td>F</td>\n",
       "      <td>N</td>\n",
       "      <td>Y</td>\n",
       "      <td>0</td>\n",
       "      <td>171000.0</td>\n",
       "      <td>370107.0</td>\n",
       "      <td>20205.0</td>\n",
       "      <td>...</td>\n",
       "      <td>Mary</td>\n",
       "      <td>Marbury</td>\n",
       "      <td>10681.13250</td>\n",
       "      <td>121317.750</td>\n",
       "      <td>134439.75</td>\n",
       "      <td>2.0</td>\n",
       "      <td>0.0</td>\n",
       "      <td>0.0</td>\n",
       "      <td>0.0</td>\n",
       "      <td>2.0</td>\n",
       "    </tr>\n",
       "    <tr>\n",
       "      <th>307510</th>\n",
       "      <td>456255</td>\n",
       "      <td>0</td>\n",
       "      <td>Cash loans</td>\n",
       "      <td>F</td>\n",
       "      <td>N</td>\n",
       "      <td>N</td>\n",
       "      <td>0</td>\n",
       "      <td>157500.0</td>\n",
       "      <td>675000.0</td>\n",
       "      <td>49117.5</td>\n",
       "      <td>...</td>\n",
       "      <td>Sophia</td>\n",
       "      <td>Murphy</td>\n",
       "      <td>20775.39188</td>\n",
       "      <td>362770.875</td>\n",
       "      <td>424431.00</td>\n",
       "      <td>6.0</td>\n",
       "      <td>0.0</td>\n",
       "      <td>2.0</td>\n",
       "      <td>0.0</td>\n",
       "      <td>8.0</td>\n",
       "    </tr>\n",
       "  </tbody>\n",
       "</table>\n",
       "<p>307511 rows × 46 columns</p>\n",
       "</div>"
      ],
      "text/plain": [
       "        loan_id  infringed    contract_type gender has_own_car has_own_realty  \\\n",
       "0        100002          1       Cash loans      M           N              Y   \n",
       "1        100003          0       Cash loans      F           N              N   \n",
       "2        100004          0  Revolving loans      M           Y              Y   \n",
       "3        100006          0       Cash loans      F           N              Y   \n",
       "4        100007          0       Cash loans      M           N              Y   \n",
       "...         ...        ...              ...    ...         ...            ...   \n",
       "307506   456251          0       Cash loans      M           N              N   \n",
       "307507   456252          0       Cash loans      F           N              Y   \n",
       "307508   456253          0       Cash loans      F           N              Y   \n",
       "307509   456254          1       Cash loans      F           N              Y   \n",
       "307510   456255          0       Cash loans      F           N              N   \n",
       "\n",
       "        num_children  annual_income  credit_amount  credit_annuity  ...  \\\n",
       "0                  0       202500.0       406597.5         24700.5  ...   \n",
       "1                  0       270000.0      1293502.5         35698.5  ...   \n",
       "2                  0        67500.0       135000.0          6750.0  ...   \n",
       "3                  0       135000.0       312682.5         29686.5  ...   \n",
       "4                  0       121500.0       513000.0         21865.5  ...   \n",
       "...              ...            ...            ...             ...  ...   \n",
       "307506             0       157500.0       254700.0         27558.0  ...   \n",
       "307507             0        72000.0       269550.0         12001.5  ...   \n",
       "307508             0       153000.0       677664.0         29979.0  ...   \n",
       "307509             0       171000.0       370107.0         20205.0  ...   \n",
       "307510             0       157500.0       675000.0         49117.5  ...   \n",
       "\n",
       "        first_name  last_name past_avg_amount_annuity  \\\n",
       "0           Robert    Watkins              9251.77500   \n",
       "1             Jane    Navarro             56553.99000   \n",
       "2            David  Seagraves              5357.25000   \n",
       "3          Deborah      Tandy             23651.17500   \n",
       "4            David     Walker             12278.80500   \n",
       "...            ...        ...                     ...   \n",
       "307506    Lawrence    Mcwayne              6605.91000   \n",
       "307507     Belinda   Loveland             10074.46500   \n",
       "307508      Aileen  Rasmussen              4770.40500   \n",
       "307509        Mary    Marbury             10681.13250   \n",
       "307510      Sophia     Murphy             20775.39188   \n",
       "\n",
       "       past_avg_amt_application past_avg_amt_credit  past_loans_approved  \\\n",
       "0                    179055.000           179055.00                  1.0   \n",
       "1                    435436.500           484191.00                  3.0   \n",
       "2                     24282.000            20106.00                  1.0   \n",
       "3                    272203.260           291695.50                  5.0   \n",
       "4                    150530.250           166638.75                  6.0   \n",
       "...                         ...                 ...                  ...   \n",
       "307506                40455.000            40455.00                  1.0   \n",
       "307507                57595.500            56821.50                  1.0   \n",
       "307508                24162.750            20625.75                  2.0   \n",
       "307509               121317.750           134439.75                  2.0   \n",
       "307510               362770.875           424431.00                  6.0   \n",
       "\n",
       "        past_loans_refused  past_loans_canceled  past_loans_unused  \\\n",
       "0                      0.0                  0.0                0.0   \n",
       "1                      0.0                  0.0                0.0   \n",
       "2                      0.0                  0.0                0.0   \n",
       "3                      3.0                  1.0                0.0   \n",
       "4                      0.0                  0.0                0.0   \n",
       "...                    ...                  ...                ...   \n",
       "307506                 0.0                  0.0                0.0   \n",
       "307507                 0.0                  0.0                0.0   \n",
       "307508                 0.0                  0.0                0.0   \n",
       "307509                 0.0                  0.0                0.0   \n",
       "307510                 0.0                  2.0                0.0   \n",
       "\n",
       "        past_loans_total  \n",
       "0                    1.0  \n",
       "1                    3.0  \n",
       "2                    1.0  \n",
       "3                    9.0  \n",
       "4                    6.0  \n",
       "...                  ...  \n",
       "307506               1.0  \n",
       "307507               1.0  \n",
       "307508               2.0  \n",
       "307509               2.0  \n",
       "307510               8.0  \n",
       "\n",
       "[307511 rows x 46 columns]"
      ]
     },
     "metadata": {},
     "output_type": "display_data"
    }
   ],
   "source": [
    "import numpy as np\n",
    "import pandas as pd\n",
    "import seaborn as sns\n",
    "from scipy import stats\n",
    "\n",
    "infri = pd.read_csv('data/infringement_dataset_v2.csv')\n",
    "\n",
    "infri.fillna(value = 0, inplace = True) \n",
    "\n",
    "display(infri)"
   ]
  },
  {
   "attachments": {},
   "cell_type": "markdown",
   "metadata": {},
   "source": [
    "### Data"
   ]
  },
  {
   "cell_type": "code",
   "execution_count": 100,
   "metadata": {},
   "outputs": [
    {
     "data": {
      "text/html": [
       "<div>\n",
       "<style scoped>\n",
       "    .dataframe tbody tr th:only-of-type {\n",
       "        vertical-align: middle;\n",
       "    }\n",
       "\n",
       "    .dataframe tbody tr th {\n",
       "        vertical-align: top;\n",
       "    }\n",
       "\n",
       "    .dataframe thead th {\n",
       "        text-align: right;\n",
       "    }\n",
       "</style>\n",
       "<table border=\"1\" class=\"dataframe\">\n",
       "  <thead>\n",
       "    <tr style=\"text-align: right;\">\n",
       "      <th></th>\n",
       "      <th>age</th>\n",
       "      <th>past_avg_amount_annuity</th>\n",
       "      <th>past_avg_amt_application</th>\n",
       "      <th>past_avg_amt_credit</th>\n",
       "      <th>past_loans_total</th>\n",
       "    </tr>\n",
       "  </thead>\n",
       "  <tbody>\n",
       "    <tr>\n",
       "      <th>0</th>\n",
       "      <td>25</td>\n",
       "      <td>9251.77500</td>\n",
       "      <td>179055.000</td>\n",
       "      <td>179055.00</td>\n",
       "      <td>1.0</td>\n",
       "    </tr>\n",
       "    <tr>\n",
       "      <th>1</th>\n",
       "      <td>45</td>\n",
       "      <td>56553.99000</td>\n",
       "      <td>435436.500</td>\n",
       "      <td>484191.00</td>\n",
       "      <td>3.0</td>\n",
       "    </tr>\n",
       "    <tr>\n",
       "      <th>2</th>\n",
       "      <td>52</td>\n",
       "      <td>5357.25000</td>\n",
       "      <td>24282.000</td>\n",
       "      <td>20106.00</td>\n",
       "      <td>1.0</td>\n",
       "    </tr>\n",
       "    <tr>\n",
       "      <th>3</th>\n",
       "      <td>52</td>\n",
       "      <td>23651.17500</td>\n",
       "      <td>272203.260</td>\n",
       "      <td>291695.50</td>\n",
       "      <td>9.0</td>\n",
       "    </tr>\n",
       "    <tr>\n",
       "      <th>4</th>\n",
       "      <td>54</td>\n",
       "      <td>12278.80500</td>\n",
       "      <td>150530.250</td>\n",
       "      <td>166638.75</td>\n",
       "      <td>6.0</td>\n",
       "    </tr>\n",
       "    <tr>\n",
       "      <th>...</th>\n",
       "      <td>...</td>\n",
       "      <td>...</td>\n",
       "      <td>...</td>\n",
       "      <td>...</td>\n",
       "      <td>...</td>\n",
       "    </tr>\n",
       "    <tr>\n",
       "      <th>307506</th>\n",
       "      <td>25</td>\n",
       "      <td>6605.91000</td>\n",
       "      <td>40455.000</td>\n",
       "      <td>40455.00</td>\n",
       "      <td>1.0</td>\n",
       "    </tr>\n",
       "    <tr>\n",
       "      <th>307507</th>\n",
       "      <td>56</td>\n",
       "      <td>10074.46500</td>\n",
       "      <td>57595.500</td>\n",
       "      <td>56821.50</td>\n",
       "      <td>1.0</td>\n",
       "    </tr>\n",
       "    <tr>\n",
       "      <th>307508</th>\n",
       "      <td>41</td>\n",
       "      <td>4770.40500</td>\n",
       "      <td>24162.750</td>\n",
       "      <td>20625.75</td>\n",
       "      <td>2.0</td>\n",
       "    </tr>\n",
       "    <tr>\n",
       "      <th>307509</th>\n",
       "      <td>32</td>\n",
       "      <td>10681.13250</td>\n",
       "      <td>121317.750</td>\n",
       "      <td>134439.75</td>\n",
       "      <td>2.0</td>\n",
       "    </tr>\n",
       "    <tr>\n",
       "      <th>307510</th>\n",
       "      <td>46</td>\n",
       "      <td>20775.39188</td>\n",
       "      <td>362770.875</td>\n",
       "      <td>424431.00</td>\n",
       "      <td>8.0</td>\n",
       "    </tr>\n",
       "  </tbody>\n",
       "</table>\n",
       "<p>307511 rows × 5 columns</p>\n",
       "</div>"
      ],
      "text/plain": [
       "        age  past_avg_amount_annuity  past_avg_amt_application  \\\n",
       "0        25               9251.77500                179055.000   \n",
       "1        45              56553.99000                435436.500   \n",
       "2        52               5357.25000                 24282.000   \n",
       "3        52              23651.17500                272203.260   \n",
       "4        54              12278.80500                150530.250   \n",
       "...     ...                      ...                       ...   \n",
       "307506   25               6605.91000                 40455.000   \n",
       "307507   56              10074.46500                 57595.500   \n",
       "307508   41               4770.40500                 24162.750   \n",
       "307509   32              10681.13250                121317.750   \n",
       "307510   46              20775.39188                362770.875   \n",
       "\n",
       "        past_avg_amt_credit  past_loans_total  \n",
       "0                 179055.00               1.0  \n",
       "1                 484191.00               3.0  \n",
       "2                  20106.00               1.0  \n",
       "3                 291695.50               9.0  \n",
       "4                 166638.75               6.0  \n",
       "...                     ...               ...  \n",
       "307506             40455.00               1.0  \n",
       "307507             56821.50               1.0  \n",
       "307508             20625.75               2.0  \n",
       "307509            134439.75               2.0  \n",
       "307510            424431.00               8.0  \n",
       "\n",
       "[307511 rows x 5 columns]"
      ]
     },
     "metadata": {},
     "output_type": "display_data"
    }
   ],
   "source": [
    "from matplotlib import pyplot as plt\n",
    "columns = ['age', 'past_avg_amount_annuity', 'past_avg_amt_application', 'past_avg_amt_credit', 'past_loans_total']\n",
    "colunas = infri[columns]\n",
    "\n",
    "display(colunas)"
   ]
  },
  {
   "cell_type": "markdown",
   "metadata": {},
   "source": [
    "### 2.2. Sensitivity"
   ]
  },
  {
   "cell_type": "code",
   "execution_count": 101,
   "metadata": {},
   "outputs": [],
   "source": [
    "def sensitivity_mean(data):\n",
    "    l = []\n",
    "    data = data.to_numpy()\n",
    "\n",
    "    mean_past = np.average(data)\n",
    "    print(\"Total mean:\", mean_past)\n",
    "\n",
    "    for i in range(len(data)):\n",
    "        aux = np.average(np.delete(data, i))\n",
    "        l.append(abs(mean_past - aux))\n",
    "    \n",
    "    return max(l)"
   ]
  },
  {
   "attachments": {},
   "cell_type": "markdown",
   "metadata": {},
   "source": [
    "### Past_Events"
   ]
  },
  {
   "cell_type": "code",
   "execution_count": 102,
   "metadata": {},
   "outputs": [
    {
     "name": "stdout",
     "output_type": "stream",
     "text": [
      "Total mean: 13734.779634713375\n",
      "Total mean: 145765.11039217902\n",
      "Total mean: 160970.077379683\n",
      "Total mean: 4.597237172003603\n"
     ]
    },
    {
     "data": {
      "text/html": [
       "<div>\n",
       "<style scoped>\n",
       "    .dataframe tbody tr th:only-of-type {\n",
       "        vertical-align: middle;\n",
       "    }\n",
       "\n",
       "    .dataframe tbody tr th {\n",
       "        vertical-align: top;\n",
       "    }\n",
       "\n",
       "    .dataframe thead th {\n",
       "        text-align: right;\n",
       "    }\n",
       "</style>\n",
       "<table border=\"1\" class=\"dataframe\">\n",
       "  <thead>\n",
       "    <tr style=\"text-align: right;\">\n",
       "      <th></th>\n",
       "      <th>past_avg_amount_annuity</th>\n",
       "      <th>past_avg_amt_application</th>\n",
       "      <th>past_avg_amt_credit</th>\n",
       "      <th>past_loans_total</th>\n",
       "    </tr>\n",
       "  </thead>\n",
       "  <tbody>\n",
       "    <tr>\n",
       "      <th>Original Sensitivity</th>\n",
       "      <td>0.932297</td>\n",
       "      <td>12.696286</td>\n",
       "      <td>12.646841</td>\n",
       "      <td>0.000222</td>\n",
       "    </tr>\n",
       "  </tbody>\n",
       "</table>\n",
       "</div>"
      ],
      "text/plain": [
       "                     past_avg_amount_annuity past_avg_amt_application  \\\n",
       "Original Sensitivity                0.932297                12.696286   \n",
       "\n",
       "                     past_avg_amt_credit past_loans_total  \n",
       "Original Sensitivity           12.646841         0.000222  "
      ]
     },
     "metadata": {},
     "output_type": "display_data"
    }
   ],
   "source": [
    "df_sensitivity = pd.DataFrame(columns=columns[1:], index = [\"Original Sensitivity\"])\n",
    "\n",
    "s_annuity = sensitivity_mean(colunas['past_avg_amount_annuity'])\n",
    "s_application = sensitivity_mean(colunas['past_avg_amt_application'])\n",
    "s_credit = sensitivity_mean(colunas['past_avg_amt_credit'])\n",
    "s_loans = sensitivity_mean(colunas['past_loans_total'])\n",
    "\n",
    "df_sensitivity.loc[\"Original Sensitivity\"] = [s_annuity, s_application, s_credit, s_loans]\n",
    "\n",
    "display(df_sensitivity)"
   ]
  },
  {
   "attachments": {},
   "cell_type": "markdown",
   "metadata": {},
   "source": [
    "### 2.3. Differential Privacy"
   ]
  },
  {
   "cell_type": "code",
   "execution_count": 103,
   "metadata": {},
   "outputs": [],
   "source": [
    "def add_laplace_noise(data, column, sensitivity, epsilon):\n",
    "  data_aux = data.copy()\n",
    "  data_aux = data_aux.to_numpy()\n",
    "\n",
    "  for i in range(len(data_aux)):\n",
    "    laplace = np.random.laplace(loc=0, scale=sensitivity/epsilon)\n",
    "    data_aux[i] = data_aux[i] + laplace\n",
    "\n",
    "  df = pd.DataFrame(data_aux, columns = [column])\n",
    "  return df[column]"
   ]
  },
  {
   "attachments": {},
   "cell_type": "markdown",
   "metadata": {},
   "source": [
    "## Adding noise"
   ]
  },
  {
   "cell_type": "code",
   "execution_count": 104,
   "metadata": {},
   "outputs": [
    {
     "name": "stdout",
     "output_type": "stream",
     "text": [
      "Total mean: 13734.75757248655\n",
      "Total mean: 145762.201632933\n",
      "Total mean: 160970.9331337854\n",
      "Total mean: 4.597254832413279\n"
     ]
    },
    {
     "data": {
      "text/html": [
       "<div>\n",
       "<style scoped>\n",
       "    .dataframe tbody tr th:only-of-type {\n",
       "        vertical-align: middle;\n",
       "    }\n",
       "\n",
       "    .dataframe tbody tr th {\n",
       "        vertical-align: top;\n",
       "    }\n",
       "\n",
       "    .dataframe thead th {\n",
       "        text-align: right;\n",
       "    }\n",
       "</style>\n",
       "<table border=\"1\" class=\"dataframe\">\n",
       "  <thead>\n",
       "    <tr style=\"text-align: right;\">\n",
       "      <th></th>\n",
       "      <th>past_avg_amount_annuity</th>\n",
       "      <th>past_avg_amt_application</th>\n",
       "      <th>past_avg_amt_credit</th>\n",
       "      <th>past_loans_total</th>\n",
       "    </tr>\n",
       "  </thead>\n",
       "  <tbody>\n",
       "    <tr>\n",
       "      <th>Original Sensitivity</th>\n",
       "      <td>0.932297</td>\n",
       "      <td>12.696286</td>\n",
       "      <td>12.646841</td>\n",
       "      <td>0.000222</td>\n",
       "    </tr>\n",
       "    <tr>\n",
       "      <th>Epsilon = 0.01</th>\n",
       "      <td>0.931556</td>\n",
       "      <td>12.703533</td>\n",
       "      <td>12.650964</td>\n",
       "      <td>0.000222</td>\n",
       "    </tr>\n",
       "  </tbody>\n",
       "</table>\n",
       "</div>"
      ],
      "text/plain": [
       "                     past_avg_amount_annuity past_avg_amt_application  \\\n",
       "Original Sensitivity                0.932297                12.696286   \n",
       "Epsilon = 0.01                      0.931556                12.703533   \n",
       "\n",
       "                     past_avg_amt_credit past_loans_total  \n",
       "Original Sensitivity           12.646841         0.000222  \n",
       "Epsilon = 0.01                 12.650964         0.000222  "
      ]
     },
     "metadata": {},
     "output_type": "display_data"
    }
   ],
   "source": [
    "noise_annuity_001 = add_laplace_noise(colunas['past_avg_amount_annuity'], 'past_avg_amount_annuity', s_annuity, 0.01)\n",
    "s_annuity_001 = sensitivity_mean(noise_annuity_001)\n",
    "\n",
    "noise_application_001 = add_laplace_noise(colunas['past_avg_amt_application'], 'past_avg_amt_application', s_application, 0.01)\n",
    "s_application_001 = sensitivity_mean(noise_application_001)\n",
    "\n",
    "noise_credit_001 = add_laplace_noise(colunas['past_avg_amt_credit'], 'past_avg_amt_credit', s_credit, 0.01)\n",
    "s_credit_001 = sensitivity_mean(noise_credit_001)\n",
    "\n",
    "noise_loans_001 = add_laplace_noise(colunas['past_loans_total'], 'past_loans_total', s_loans, 0.01)\n",
    "s_loans_001 = sensitivity_mean(noise_loans_001)\n",
    "\n",
    "df_sensitivity.loc[\"Epsilon = 0.01\"] = [s_annuity_001, s_application_001, s_credit_001, s_loans_001]\n",
    "display(df_sensitivity)\n",
    "\n"
   ]
  },
  {
   "cell_type": "code",
   "execution_count": 105,
   "metadata": {},
   "outputs": [
    {
     "name": "stdout",
     "output_type": "stream",
     "text": [
      "Total mean: 13734.774077477618\n",
      "Total mean: 145765.15174121113\n",
      "Total mean: 160970.3277097372\n",
      "Total mean: 4.5972339339686386\n"
     ]
    },
    {
     "data": {
      "text/html": [
       "<div>\n",
       "<style scoped>\n",
       "    .dataframe tbody tr th:only-of-type {\n",
       "        vertical-align: middle;\n",
       "    }\n",
       "\n",
       "    .dataframe tbody tr th {\n",
       "        vertical-align: top;\n",
       "    }\n",
       "\n",
       "    .dataframe thead th {\n",
       "        text-align: right;\n",
       "    }\n",
       "</style>\n",
       "<table border=\"1\" class=\"dataframe\">\n",
       "  <thead>\n",
       "    <tr style=\"text-align: right;\">\n",
       "      <th></th>\n",
       "      <th>past_avg_amount_annuity</th>\n",
       "      <th>past_avg_amt_application</th>\n",
       "      <th>past_avg_amt_credit</th>\n",
       "      <th>past_loans_total</th>\n",
       "    </tr>\n",
       "  </thead>\n",
       "  <tbody>\n",
       "    <tr>\n",
       "      <th>Original Sensitivity</th>\n",
       "      <td>0.932297</td>\n",
       "      <td>12.696286</td>\n",
       "      <td>12.646841</td>\n",
       "      <td>0.000222</td>\n",
       "    </tr>\n",
       "    <tr>\n",
       "      <th>Epsilon = 0.01</th>\n",
       "      <td>0.931556</td>\n",
       "      <td>12.703533</td>\n",
       "      <td>12.650964</td>\n",
       "      <td>0.000222</td>\n",
       "    </tr>\n",
       "    <tr>\n",
       "      <th>Epsilon = 0.2</th>\n",
       "      <td>0.932257</td>\n",
       "      <td>12.695973</td>\n",
       "      <td>12.646719</td>\n",
       "      <td>0.000222</td>\n",
       "    </tr>\n",
       "  </tbody>\n",
       "</table>\n",
       "</div>"
      ],
      "text/plain": [
       "                     past_avg_amount_annuity past_avg_amt_application  \\\n",
       "Original Sensitivity                0.932297                12.696286   \n",
       "Epsilon = 0.01                      0.931556                12.703533   \n",
       "Epsilon = 0.2                       0.932257                12.695973   \n",
       "\n",
       "                     past_avg_amt_credit past_loans_total  \n",
       "Original Sensitivity           12.646841         0.000222  \n",
       "Epsilon = 0.01                 12.650964         0.000222  \n",
       "Epsilon = 0.2                  12.646719         0.000222  "
      ]
     },
     "metadata": {},
     "output_type": "display_data"
    }
   ],
   "source": [
    "noise_annuity_02 = add_laplace_noise(colunas['past_avg_amount_annuity'], 'past_avg_amount_annuity', s_annuity, 0.2)\n",
    "s_annuity_02 = sensitivity_mean(noise_annuity_02)\n",
    "\n",
    "noise_application_02 = add_laplace_noise(colunas['past_avg_amt_application'], 'past_avg_amt_application', s_application, 0.2)\n",
    "s_application_02 = sensitivity_mean(noise_application_02)\n",
    "\n",
    "noise_credit_02 = add_laplace_noise(colunas['past_avg_amt_credit'], 'past_avg_amt_credit', s_credit, 0.2)\n",
    "s_credit_02 = sensitivity_mean(noise_credit_02)\n",
    "\n",
    "noise_loans_02 = add_laplace_noise(colunas['past_loans_total'], 'past_loans_total', s_loans, 0.2)\n",
    "s_loans_02 = sensitivity_mean(noise_loans_02)\n",
    "\n",
    "df_sensitivity.loc[\"Epsilon = 0.2\"] = [s_annuity_02, s_application_02, s_credit_02, s_loans_02]\n",
    "display(df_sensitivity)"
   ]
  },
  {
   "cell_type": "code",
   "execution_count": 106,
   "metadata": {},
   "outputs": [
    {
     "name": "stdout",
     "output_type": "stream",
     "text": [
      "Total mean: 13734.777772761228\n",
      "Total mean: 145765.06198471523\n",
      "Total mean: 160970.11373088733\n",
      "Total mean: 4.597237764841929\n"
     ]
    },
    {
     "data": {
      "text/html": [
       "<div>\n",
       "<style scoped>\n",
       "    .dataframe tbody tr th:only-of-type {\n",
       "        vertical-align: middle;\n",
       "    }\n",
       "\n",
       "    .dataframe tbody tr th {\n",
       "        vertical-align: top;\n",
       "    }\n",
       "\n",
       "    .dataframe thead th {\n",
       "        text-align: right;\n",
       "    }\n",
       "</style>\n",
       "<table border=\"1\" class=\"dataframe\">\n",
       "  <thead>\n",
       "    <tr style=\"text-align: right;\">\n",
       "      <th></th>\n",
       "      <th>past_avg_amount_annuity</th>\n",
       "      <th>past_avg_amt_application</th>\n",
       "      <th>past_avg_amt_credit</th>\n",
       "      <th>past_loans_total</th>\n",
       "    </tr>\n",
       "  </thead>\n",
       "  <tbody>\n",
       "    <tr>\n",
       "      <th>Original Sensitivity</th>\n",
       "      <td>0.932297</td>\n",
       "      <td>12.696286</td>\n",
       "      <td>12.646841</td>\n",
       "      <td>0.000222</td>\n",
       "    </tr>\n",
       "    <tr>\n",
       "      <th>Epsilon = 0.01</th>\n",
       "      <td>0.931556</td>\n",
       "      <td>12.703533</td>\n",
       "      <td>12.650964</td>\n",
       "      <td>0.000222</td>\n",
       "    </tr>\n",
       "    <tr>\n",
       "      <th>Epsilon = 0.2</th>\n",
       "      <td>0.932257</td>\n",
       "      <td>12.695973</td>\n",
       "      <td>12.646719</td>\n",
       "      <td>0.000222</td>\n",
       "    </tr>\n",
       "    <tr>\n",
       "      <th>Epsilon = ln(2)</th>\n",
       "      <td>0.932294</td>\n",
       "      <td>12.696307</td>\n",
       "      <td>12.646955</td>\n",
       "      <td>0.000222</td>\n",
       "    </tr>\n",
       "  </tbody>\n",
       "</table>\n",
       "</div>"
      ],
      "text/plain": [
       "                     past_avg_amount_annuity past_avg_amt_application  \\\n",
       "Original Sensitivity                0.932297                12.696286   \n",
       "Epsilon = 0.01                      0.931556                12.703533   \n",
       "Epsilon = 0.2                       0.932257                12.695973   \n",
       "Epsilon = ln(2)                     0.932294                12.696307   \n",
       "\n",
       "                     past_avg_amt_credit past_loans_total  \n",
       "Original Sensitivity           12.646841         0.000222  \n",
       "Epsilon = 0.01                 12.650964         0.000222  \n",
       "Epsilon = 0.2                  12.646719         0.000222  \n",
       "Epsilon = ln(2)                12.646955         0.000222  "
      ]
     },
     "metadata": {},
     "output_type": "display_data"
    }
   ],
   "source": [
    "noise_annuity_l2 = add_laplace_noise(colunas['past_avg_amount_annuity'], 'past_avg_amount_annuity', s_annuity, np.log(2))\n",
    "s_annuity_l2 = sensitivity_mean(noise_annuity_l2)\n",
    "\n",
    "noise_application_l2 = add_laplace_noise(colunas['past_avg_amt_application'], 'past_avg_amt_application', s_application, np.log(2))\n",
    "s_application_l2 = sensitivity_mean(noise_application_l2)\n",
    "\n",
    "noise_credit_l2 = add_laplace_noise(colunas['past_avg_amt_credit'], 'past_avg_amt_credit', s_credit, np.log(2))\n",
    "s_credit_l2 = sensitivity_mean(noise_credit_l2)\n",
    "\n",
    "noise_loans_l2 = add_laplace_noise(colunas['past_loans_total'], 'past_loans_total', s_loans, np.log(2))\n",
    "s_loans_l2 = sensitivity_mean(noise_loans_l2)\n",
    "\n",
    "df_sensitivity.loc[\"Epsilon = ln(2)\"] = [s_annuity_l2, s_application_l2, s_credit_l2, s_loans_l2]\n",
    "display(df_sensitivity)"
   ]
  },
  {
   "cell_type": "code",
   "execution_count": 107,
   "metadata": {},
   "outputs": [
    {
     "name": "stdout",
     "output_type": "stream",
     "text": [
      "Total mean: 13734.780314867345\n",
      "Total mean: 145765.09573613745\n",
      "Total mean: 160970.06818200878\n",
      "Total mean: 4.597237484508606\n"
     ]
    },
    {
     "data": {
      "text/html": [
       "<div>\n",
       "<style scoped>\n",
       "    .dataframe tbody tr th:only-of-type {\n",
       "        vertical-align: middle;\n",
       "    }\n",
       "\n",
       "    .dataframe tbody tr th {\n",
       "        vertical-align: top;\n",
       "    }\n",
       "\n",
       "    .dataframe thead th {\n",
       "        text-align: right;\n",
       "    }\n",
       "</style>\n",
       "<table border=\"1\" class=\"dataframe\">\n",
       "  <thead>\n",
       "    <tr style=\"text-align: right;\">\n",
       "      <th></th>\n",
       "      <th>past_avg_amount_annuity</th>\n",
       "      <th>past_avg_amt_application</th>\n",
       "      <th>past_avg_amt_credit</th>\n",
       "      <th>past_loans_total</th>\n",
       "    </tr>\n",
       "  </thead>\n",
       "  <tbody>\n",
       "    <tr>\n",
       "      <th>Original Sensitivity</th>\n",
       "      <td>0.932297</td>\n",
       "      <td>12.696286</td>\n",
       "      <td>12.646841</td>\n",
       "      <td>0.000222</td>\n",
       "    </tr>\n",
       "    <tr>\n",
       "      <th>Epsilon = 0.01</th>\n",
       "      <td>0.931556</td>\n",
       "      <td>12.703533</td>\n",
       "      <td>12.650964</td>\n",
       "      <td>0.000222</td>\n",
       "    </tr>\n",
       "    <tr>\n",
       "      <th>Epsilon = 0.2</th>\n",
       "      <td>0.932257</td>\n",
       "      <td>12.695973</td>\n",
       "      <td>12.646719</td>\n",
       "      <td>0.000222</td>\n",
       "    </tr>\n",
       "    <tr>\n",
       "      <th>Epsilon = ln(2)</th>\n",
       "      <td>0.932294</td>\n",
       "      <td>12.696307</td>\n",
       "      <td>12.646955</td>\n",
       "      <td>0.000222</td>\n",
       "    </tr>\n",
       "    <tr>\n",
       "      <th>Epsilon = ln(3)</th>\n",
       "      <td>0.9323</td>\n",
       "      <td>12.6962</td>\n",
       "      <td>12.646747</td>\n",
       "      <td>0.000222</td>\n",
       "    </tr>\n",
       "  </tbody>\n",
       "</table>\n",
       "</div>"
      ],
      "text/plain": [
       "                     past_avg_amount_annuity past_avg_amt_application  \\\n",
       "Original Sensitivity                0.932297                12.696286   \n",
       "Epsilon = 0.01                      0.931556                12.703533   \n",
       "Epsilon = 0.2                       0.932257                12.695973   \n",
       "Epsilon = ln(2)                     0.932294                12.696307   \n",
       "Epsilon = ln(3)                       0.9323                  12.6962   \n",
       "\n",
       "                     past_avg_amt_credit past_loans_total  \n",
       "Original Sensitivity           12.646841         0.000222  \n",
       "Epsilon = 0.01                 12.650964         0.000222  \n",
       "Epsilon = 0.2                  12.646719         0.000222  \n",
       "Epsilon = ln(2)                12.646955         0.000222  \n",
       "Epsilon = ln(3)                12.646747         0.000222  "
      ]
     },
     "metadata": {},
     "output_type": "display_data"
    }
   ],
   "source": [
    "noise_annuity_l3 = add_laplace_noise(colunas['past_avg_amount_annuity'], 'past_avg_amount_annuity', s_annuity, np.log(3))\n",
    "s_annuity_l3 = sensitivity_mean(noise_annuity_l3)\n",
    "\n",
    "noise_application_l3 = add_laplace_noise(colunas['past_avg_amt_application'], 'past_avg_amt_application', s_application, np.log(3))\n",
    "s_application_l3 = sensitivity_mean(noise_application_l3)\n",
    "\n",
    "noise_credit_l3 = add_laplace_noise(colunas['past_avg_amt_credit'], 'past_avg_amt_credit', s_credit, np.log(3))\n",
    "s_credit_l3 = sensitivity_mean(noise_credit_l3)\n",
    "\n",
    "noise_loans_l3 = add_laplace_noise(colunas['past_loans_total'], 'past_loans_total', s_loans, np.log(3))\n",
    "s_loans_l3 = sensitivity_mean(noise_loans_l3)\n",
    "\n",
    "df_sensitivity.loc[\"Epsilon = ln(3)\"] = [s_annuity_l3, s_application_l3, s_credit_l3, s_loans_l3]\n",
    "display(df_sensitivity)"
   ]
  },
  {
   "attachments": {},
   "cell_type": "markdown",
   "metadata": {},
   "source": [
    "### Analysis of sensitivity"
   ]
  },
  {
   "cell_type": "code",
   "execution_count": 108,
   "metadata": {},
   "outputs": [
    {
     "name": "stdout",
     "output_type": "stream",
     "text": [
      "Comparison of sensitivity in different epsilons\n"
     ]
    },
    {
     "data": {
      "text/plain": [
       "<Figure size 432x288 with 0 Axes>"
      ]
     },
     "metadata": {},
     "output_type": "display_data"
    },
    {
     "data": {
      "image/png": "[encoded data removed]",
      "text/plain": [
       "<Figure size 1080x576 with 4 Axes>"
      ]
     },
     "metadata": {
      "needs_background": "light"
     },
     "output_type": "display_data"
    }
   ],
   "source": [
    "s_annuity_a = [s_annuity, s_annuity_001, s_annuity_02, s_annuity_l2, s_annuity_l3]\n",
    "s_application_a = [s_application, s_application_001, s_application_02, s_application_l2, s_application_l3]\n",
    "s_credit_a = [s_credit, s_credit_001, s_credit_02, s_credit_l2, s_credit_l3]\n",
    "s_loans_a = [s_loans, s_loans_001, s_loans_02, s_loans_l2, s_loans_l3]\n",
    "\n",
    "epsilon_values = [0, 0.01, 0.2, np.log(2), np.log(3)]\n",
    "\n",
    "plt.figure()\n",
    "plt.subplots(2, 2, figsize=(15, 8))\n",
    "\n",
    "print(\"Comparison of sensitivity in different epsilons\")\n",
    "\n",
    "def plot(num, column, x, y, color):    \n",
    "    plt.subplot(2, 2, num)\n",
    "    plt.xlabel(\"Epsilon values\")\n",
    "    plt.ylabel(\"Sensitivity values\")\n",
    "    plt.plot(x, y, color = color)\n",
    "    plt.scatter(x, y, color = color, label= column)\n",
    "    plt.legend()\n",
    "\n",
    "\n",
    "plot(1, 'past_avg_amount_annuity', epsilon_values, s_annuity_a, 'blue')\n",
    "plot(2,'past_avg_amt_application', epsilon_values, s_application_a, 'red')\n",
    "plot(3, 'past_avg_amt_credit', epsilon_values, s_credit_a, 'green')\n",
    "plot(4, 'past_loans_total', epsilon_values, s_loans_a, 'purple')\n"
   ]
  },
  {
   "attachments": {},
   "cell_type": "markdown",
   "metadata": {},
   "source": [
    "### Past_events group by age"
   ]
  },
  {
   "cell_type": "code",
   "execution_count": 109,
   "metadata": {},
   "outputs": [],
   "source": [
    "columns = ['age', 'past_avg_amount_annuity', 'past_avg_amt_application', 'past_avg_amt_credit', 'past_loans_total']\n",
    "\n",
    "noise_df_001 = pd.DataFrame(columns=columns)\n",
    "noise_df_001[\"age\"] = infri[\"age\"]\n",
    "noise_df_001['past_avg_amount_annuity'] = noise_annuity_001\n",
    "noise_df_001['past_avg_amt_application'] = noise_application_001\n",
    "noise_df_001['past_avg_amt_credit'] = noise_credit_001\n",
    "noise_df_001['past_loans_total'] = noise_loans_001\n",
    "\n",
    "noise_df_02 = pd.DataFrame(columns=columns)\n",
    "noise_df_02[\"age\"] = infri[\"age\"]\n",
    "noise_df_02['past_avg_amount_annuity'] = noise_annuity_02\n",
    "noise_df_02['past_avg_amt_application'] = noise_application_02\n",
    "noise_df_02['past_avg_amt_credit'] = noise_credit_02\n",
    "noise_df_02['past_loans_total'] = noise_loans_02\n",
    "\n",
    "noise_df_l2 = pd.DataFrame(columns=columns)\n",
    "noise_df_l2[\"age\"] = infri[\"age\"]\n",
    "noise_df_l2['past_avg_amount_annuity'] = noise_annuity_l2\n",
    "noise_df_l2['past_avg_amt_application'] = noise_application_l2\n",
    "noise_df_l2['past_avg_amt_credit'] = noise_credit_l2\n",
    "noise_df_l2['past_loans_total'] = noise_loans_l2\n",
    "\n",
    "noise_df_l3 = pd.DataFrame(columns=columns)\n",
    "noise_df_l3[\"age\"] = infri[\"age\"]\n",
    "noise_df_l3['past_avg_amount_annuity'] = noise_annuity_l3\n",
    "noise_df_l3['past_avg_amt_application'] = noise_application_l3\n",
    "noise_df_l3['past_avg_amt_credit'] = noise_credit_l3\n",
    "noise_df_l3['past_loans_total'] = noise_loans_l3\n"
   ]
  },
  {
   "cell_type": "code",
   "execution_count": 110,
   "metadata": {},
   "outputs": [],
   "source": [
    "groupby_age_original = colunas.groupby(\"age\").mean()\n",
    "groupby_age_001 = noise_df_001.groupby(\"age\").mean()\n",
    "groupby_age_02 = noise_df_02.groupby(\"age\").mean()\n",
    "groupby_age_l2 = noise_df_l2.groupby(\"age\").mean()\n",
    "groupby_age_l3 = noise_df_l3.groupby(\"age\").mean()\n"
   ]
  },
  {
   "cell_type": "code",
   "execution_count": 111,
   "metadata": {},
   "outputs": [
    {
     "data": {
      "image/png": "[encoded data removed]",
      "text/plain": [
       "<Figure size 432x288 with 1 Axes>"
      ]
     },
     "metadata": {
      "needs_background": "light"
     },
     "output_type": "display_data"
    },
    {
     "data": {
      "image/png": "[encoded data removed]",
      "text/plain": [
       "<Figure size 432x288 with 1 Axes>"
      ]
     },
     "metadata": {
      "needs_background": "light"
     },
     "output_type": "display_data"
    },
    {
     "data": {
      "image/png": "[encoded data removed]",
      "text/plain": [
       "<Figure size 432x288 with 1 Axes>"
      ]
     },
     "metadata": {
      "needs_background": "light"
     },
     "output_type": "display_data"
    },
    {
     "data": {
      "image/png": "[encoded data removed]",
      "text/plain": [
       "<Figure size 432x288 with 1 Axes>"
      ]
     },
     "metadata": {
      "needs_background": "light"
     },
     "output_type": "display_data"
    }
   ],
   "source": [
    "def plot_age(column, x, y):   \n",
    "    plt.figure()\n",
    "    plt.xlabel(\"Age\")\n",
    "    plt.ylabel(column)\n",
    "    plt.plot(x, y[0], color = 'black')\n",
    "    plt.scatter(x, y[0], color = 'black', label= \"Original\")\n",
    "    plt.plot(x, y[1], color = 'red')\n",
    "    plt.scatter(x, y[1], color = 'red', label= \"ep = 0.01\")\n",
    "    plt.plot(x, y[2], color = 'green')\n",
    "    plt.scatter(x, y[2], color = 'green', label= \"ep = 0.2\")\n",
    "    plt.plot(x, y[3], color = 'purple')\n",
    "    plt.scatter(x, y[3], color = 'purple', label= \"ep = ln(2)\")\n",
    "    plt.plot(x, y[4], color = 'blue')\n",
    "    plt.scatter(x, y[4], color = 'blue', label= \"ep = ln(3)\")\n",
    "    plt.legend()\n",
    "\n",
    "\n",
    "plot_age('past_avg_amount_annuity', np.arange(20,70), [groupby_age_original['past_avg_amount_annuity'], groupby_age_001['past_avg_amount_annuity'], groupby_age_02['past_avg_amount_annuity'], groupby_age_l2['past_avg_amount_annuity'], groupby_age_l3['past_avg_amount_annuity']])\n",
    "plot_age('past_avg_amt_application', np.arange(20,70), [groupby_age_original['past_avg_amt_application'], groupby_age_001['past_avg_amt_application'], groupby_age_02['past_avg_amt_application'], groupby_age_l2['past_avg_amt_application'], groupby_age_l3['past_avg_amt_application']])\n",
    "plot_age('past_avg_amt_credit', np.arange(20,70), [groupby_age_original['past_avg_amt_credit'], groupby_age_001['past_avg_amt_credit'], groupby_age_02['past_avg_amt_credit'], groupby_age_l2['past_avg_amt_credit'], groupby_age_l3['past_avg_amt_credit']])\n",
    "plot_age('past_loans_total', np.arange(20,70), [groupby_age_original['past_loans_total'], groupby_age_001['past_loans_total'], groupby_age_02['past_loans_total'], groupby_age_l2['past_loans_total'], groupby_age_l3['past_loans_total']])\n"
   ]
  },
  {
   "cell_type": "code",
   "execution_count": null,
   "metadata": {},
   "outputs": [],
   "source": []
  },
  {
   "attachments": {},
   "cell_type": "markdown",
   "metadata": {},
   "source": [
    "##### Mean of people age of infringements"
   ]
  },
  {
   "cell_type": "code",
   "execution_count": 112,
   "metadata": {},
   "outputs": [
    {
     "data": {
      "text/html": [
       "<div>\n",
       "<style scoped>\n",
       "    .dataframe tbody tr th:only-of-type {\n",
       "        vertical-align: middle;\n",
       "    }\n",
       "\n",
       "    .dataframe tbody tr th {\n",
       "        vertical-align: top;\n",
       "    }\n",
       "\n",
       "    .dataframe thead th {\n",
       "        text-align: right;\n",
       "    }\n",
       "</style>\n",
       "<table border=\"1\" class=\"dataframe\">\n",
       "  <thead>\n",
       "    <tr style=\"text-align: right;\">\n",
       "      <th></th>\n",
       "      <th>infringed</th>\n",
       "      <th>age</th>\n",
       "    </tr>\n",
       "  </thead>\n",
       "  <tbody>\n",
       "    <tr>\n",
       "      <th>0</th>\n",
       "      <td>1</td>\n",
       "      <td>25</td>\n",
       "    </tr>\n",
       "    <tr>\n",
       "      <th>1</th>\n",
       "      <td>0</td>\n",
       "      <td>45</td>\n",
       "    </tr>\n",
       "    <tr>\n",
       "      <th>2</th>\n",
       "      <td>0</td>\n",
       "      <td>52</td>\n",
       "    </tr>\n",
       "    <tr>\n",
       "      <th>3</th>\n",
       "      <td>0</td>\n",
       "      <td>52</td>\n",
       "    </tr>\n",
       "    <tr>\n",
       "      <th>4</th>\n",
       "      <td>0</td>\n",
       "      <td>54</td>\n",
       "    </tr>\n",
       "    <tr>\n",
       "      <th>...</th>\n",
       "      <td>...</td>\n",
       "      <td>...</td>\n",
       "    </tr>\n",
       "    <tr>\n",
       "      <th>307506</th>\n",
       "      <td>0</td>\n",
       "      <td>25</td>\n",
       "    </tr>\n",
       "    <tr>\n",
       "      <th>307507</th>\n",
       "      <td>0</td>\n",
       "      <td>56</td>\n",
       "    </tr>\n",
       "    <tr>\n",
       "      <th>307508</th>\n",
       "      <td>0</td>\n",
       "      <td>41</td>\n",
       "    </tr>\n",
       "    <tr>\n",
       "      <th>307509</th>\n",
       "      <td>1</td>\n",
       "      <td>32</td>\n",
       "    </tr>\n",
       "    <tr>\n",
       "      <th>307510</th>\n",
       "      <td>0</td>\n",
       "      <td>46</td>\n",
       "    </tr>\n",
       "  </tbody>\n",
       "</table>\n",
       "<p>307511 rows × 2 columns</p>\n",
       "</div>"
      ],
      "text/plain": [
       "        infringed  age\n",
       "0               1   25\n",
       "1               0   45\n",
       "2               0   52\n",
       "3               0   52\n",
       "4               0   54\n",
       "...           ...  ...\n",
       "307506          0   25\n",
       "307507          0   56\n",
       "307508          0   41\n",
       "307509          1   32\n",
       "307510          0   46\n",
       "\n",
       "[307511 rows x 2 columns]"
      ]
     },
     "metadata": {},
     "output_type": "display_data"
    }
   ],
   "source": [
    "infri_age = infri[['infringed', 'age']]\n",
    "display(infri_age)"
   ]
  },
  {
   "cell_type": "code",
   "execution_count": 113,
   "metadata": {},
   "outputs": [
    {
     "name": "stdout",
     "output_type": "stream",
     "text": [
      "Total mean: 43.43596814422899\n"
     ]
    },
    {
     "data": {
      "text/html": [
       "<div>\n",
       "<style scoped>\n",
       "    .dataframe tbody tr th:only-of-type {\n",
       "        vertical-align: middle;\n",
       "    }\n",
       "\n",
       "    .dataframe tbody tr th {\n",
       "        vertical-align: top;\n",
       "    }\n",
       "\n",
       "    .dataframe thead th {\n",
       "        text-align: right;\n",
       "    }\n",
       "</style>\n",
       "<table border=\"1\" class=\"dataframe\">\n",
       "  <thead>\n",
       "    <tr style=\"text-align: right;\">\n",
       "      <th></th>\n",
       "      <th>Age</th>\n",
       "    </tr>\n",
       "  </thead>\n",
       "  <tbody>\n",
       "    <tr>\n",
       "      <th>Original Sensitivity</th>\n",
       "      <td>0.000083</td>\n",
       "    </tr>\n",
       "  </tbody>\n",
       "</table>\n",
       "</div>"
      ],
      "text/plain": [
       "                           Age\n",
       "Original Sensitivity  0.000083"
      ]
     },
     "metadata": {},
     "output_type": "display_data"
    }
   ],
   "source": [
    "s_age = sensitivity_mean(infri_age[\"age\"])\n",
    "\n",
    "res_age = pd.DataFrame(columns=[\"Age\"], index = [\"Original Sensitivity\"])\n",
    "res_age.loc[\"Original Sensitivity\"] = s_age\n",
    "display(res_age)\n"
   ]
  },
  {
   "attachments": {},
   "cell_type": "markdown",
   "metadata": {},
   "source": [
    "### Sensitivity"
   ]
  },
  {
   "cell_type": "code",
   "execution_count": 114,
   "metadata": {},
   "outputs": [
    {
     "name": "stdout",
     "output_type": "stream",
     "text": [
      "Total mean: 42.936454305699634\n",
      "Total mean: 42.935625067070774\n",
      "Total mean: 42.93572587647271\n",
      "Total mean: 42.93606732767283\n"
     ]
    },
    {
     "data": {
      "text/html": [
       "<div>\n",
       "<style scoped>\n",
       "    .dataframe tbody tr th:only-of-type {\n",
       "        vertical-align: middle;\n",
       "    }\n",
       "\n",
       "    .dataframe tbody tr th {\n",
       "        vertical-align: top;\n",
       "    }\n",
       "\n",
       "    .dataframe thead th {\n",
       "        text-align: right;\n",
       "    }\n",
       "</style>\n",
       "<table border=\"1\" class=\"dataframe\">\n",
       "  <thead>\n",
       "    <tr style=\"text-align: right;\">\n",
       "      <th></th>\n",
       "      <th>Age</th>\n",
       "    </tr>\n",
       "  </thead>\n",
       "  <tbody>\n",
       "    <tr>\n",
       "      <th>Original Sensitivity</th>\n",
       "      <td>0.000083</td>\n",
       "    </tr>\n",
       "    <tr>\n",
       "      <th>Epsilon = 0.01</th>\n",
       "      <td>0.000085</td>\n",
       "    </tr>\n",
       "    <tr>\n",
       "      <th>Epsilon = 0.2</th>\n",
       "      <td>0.000085</td>\n",
       "    </tr>\n",
       "    <tr>\n",
       "      <th>Epsilon = ln(2)</th>\n",
       "      <td>0.000085</td>\n",
       "    </tr>\n",
       "    <tr>\n",
       "      <th>Epsilon = ln(3)</th>\n",
       "      <td>0.000085</td>\n",
       "    </tr>\n",
       "  </tbody>\n",
       "</table>\n",
       "</div>"
      ],
      "text/plain": [
       "                           Age\n",
       "Original Sensitivity  0.000083\n",
       "Epsilon = 0.01        0.000085\n",
       "Epsilon = 0.2         0.000085\n",
       "Epsilon = ln(2)       0.000085\n",
       "Epsilon = ln(3)       0.000085"
      ]
     },
     "metadata": {},
     "output_type": "display_data"
    }
   ],
   "source": [
    "dp_age_001 = add_laplace_noise(infri_age[\"age\"], \"age\", s_age, 0.01)\n",
    "s_age_001 = sensitivity_mean(dp_age_001)\n",
    "res_age.loc[\"Epsilon = 0.01\"] = s_age_001\n",
    "\n",
    "dp_age_02 = add_laplace_noise(infri_age[\"age\"], \"age\", s_age, 0.2)\n",
    "s_age_02 = sensitivity_mean(dp_age_02)\n",
    "res_age.loc[\"Epsilon = 0.2\"] = s_age_02\n",
    "\n",
    "dp_age_l2 = add_laplace_noise(infri_age[\"age\"], \"age\", s_age, np.log(2))\n",
    "s_age_l2 = sensitivity_mean(dp_age_l2)\n",
    "res_age.loc[\"Epsilon = ln(2)\"] = s_age_l2\n",
    "\n",
    "dp_age_l3 = add_laplace_noise(infri_age[\"age\"], \"age\", s_age, np.log(3))\n",
    "s_age_l3 = sensitivity_mean(dp_age_l3)\n",
    "res_age.loc[\"Epsilon = ln(3)\"] = s_age_l3\n",
    "\n",
    "display(res_age)"
   ]
  },
  {
   "attachments": {},
   "cell_type": "markdown",
   "metadata": {},
   "source": [
    "### Analysis of sensitivity"
   ]
  },
  {
   "cell_type": "code",
   "execution_count": 117,
   "metadata": {},
   "outputs": [
    {
     "name": "stdout",
     "output_type": "stream",
     "text": [
      "Comparison of sensitivity in different epsilons\n"
     ]
    },
    {
     "data": {
      "text/plain": [
       "<matplotlib.collections.PathCollection at 0x23b3a322850>"
      ]
     },
     "execution_count": 117,
     "metadata": {},
     "output_type": "execute_result"
    },
    {
     "data": {
      "image/png": "[encoded data removed]",
      "text/plain": [
       "<Figure size 432x288 with 1 Axes>"
      ]
     },
     "metadata": {
      "needs_background": "light"
     },
     "output_type": "display_data"
    }
   ],
   "source": [
    "\n",
    "epsilon_values = [0, 0.01, 0.2, np.log(2), np.log(3)]\n",
    "\n",
    "plt.figure()\n",
    "\n",
    "print(\"Comparison of sensitivity in different epsilons\")\n",
    "\n",
    "y = [s_age, s_age_001, s_age_02, s_age_l2, s_age_l3]\n",
    "plt.xlabel(\"Epsilon values\")\n",
    "plt.ylabel(\"Sensitivity values\")\n",
    "plt.plot(epsilon_values, y)\n",
    "plt.scatter(epsilon_values, y)"
   ]
  },
  {
   "cell_type": "code",
   "execution_count": 116,
   "metadata": {},
   "outputs": [
    {
     "data": {
      "image/png": "[encoded data removed]",
      "text/plain": [
       "<Figure size 2160x720 with 1 Axes>"
      ]
     },
     "metadata": {
      "needs_background": "light"
     },
     "output_type": "display_data"
    },
    {
     "data": {
      "image/png": "[encoded data removed]",
      "text/plain": [
       "<Figure size 2160x720 with 1 Axes>"
      ]
     },
     "metadata": {
      "needs_background": "light"
     },
     "output_type": "display_data"
    },
    {
     "data": {
      "image/png": "[encoded data removed]",
      "text/plain": [
       "<Figure size 2160x720 with 1 Axes>"
      ]
     },
     "metadata": {
      "needs_background": "light"
     },
     "output_type": "display_data"
    },
    {
     "data": {
      "image/png": "[encoded data removed]",
      "text/plain": [
       "<Figure size 2160x720 with 1 Axes>"
      ]
     },
     "metadata": {
      "needs_background": "light"
     },
     "output_type": "display_data"
    },
    {
     "data": {
      "image/png": "[encoded data removed]",
      "text/plain": [
       "<Figure size 2160x720 with 1 Axes>"
      ]
     },
     "metadata": {
      "needs_background": "light"
     },
     "output_type": "display_data"
    }
   ],
   "source": [
    "def bar(data):\n",
    "    plt.figure()\n",
    "    count_inf = data[data['infringed']==1.0].groupby(['age']).size()\n",
    "\n",
    "    age = data.groupby(['age']).size()\n",
    "\n",
    "\n",
    "    plt.title(\"Percentagem de clientes com determinada idade com empréstimos em incumprimento\")\n",
    "    plt.xlabel(\"Idade dos clientes\")\n",
    "    plt.ylabel(\"Percentagem de empréstimos em incumprimento\")\n",
    "\n",
    "    ((count_inf/age)*100).plot(figsize=(30,10), kind='bar')\n",
    "\n",
    "bar(infri_age)\n",
    "\n",
    "data = pd.DataFrame(columns=['infringed', 'age'])\n",
    "data[\"infringed\"] = infri_age[\"infringed\"]\n",
    "data['age'] = dp_age_001\n",
    "\n",
    "bar(data)\n",
    "\n",
    "data = pd.DataFrame(columns=['infringed', 'age'])\n",
    "data[\"infringed\"] = infri_age[\"infringed\"]\n",
    "data['age'] = dp_age_02\n",
    "\n",
    "bar(data)\n",
    "\n",
    "data = pd.DataFrame(columns=['infringed', 'age'])\n",
    "data[\"infringed\"] = infri_age[\"infringed\"]\n",
    "data['age'] = dp_age_l2\n",
    "\n",
    "bar(data)\n",
    "\n",
    "data = pd.DataFrame(columns=['infringed', 'age'])\n",
    "data[\"infringed\"] = infri_age[\"infringed\"]\n",
    "data['age'] = dp_age_l3\n",
    "\n",
    "bar(data)"
   ]
  }
 ],
 "metadata": {
  "kernelspec": {
   "display_name": "Python 3",
   "language": "python",
   "name": "python3"
  },
  "language_info": {
   "codemirror_mode": {
    "name": "ipython",
    "version": 3
   },
   "file_extension": ".py",
   "mimetype": "text/x-python",
   "name": "python",
   "nbconvert_exporter": "python",
   "pygments_lexer": "ipython3",
   "version": "3.10.9"
  },
  "orig_nbformat": 4,
  "vscode": {
   "interpreter": {
    "hash": "58d2fab551b77ab6a1011cdefbe01fbf0eeaad475137b17febcda9139d0af297"
   }
  }
 },
 "nbformat": 4,
 "nbformat_minor": 2
}
