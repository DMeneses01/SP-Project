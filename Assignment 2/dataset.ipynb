{
 "cells": [
  {
   "cell_type": "code",
   "execution_count": 13,
   "metadata": {},
   "outputs": [
    {
     "data": {
      "text/plain": [
       "loan_id                         0\n",
       "infringed                       0\n",
       "contract_type                   0\n",
       "gender                          0\n",
       "annual_income                   0\n",
       "credit_amount                   0\n",
       "credit_annuity                 12\n",
       "goods_valuation               278\n",
       "income_type                     0\n",
       "education                       0\n",
       "family_status                   0\n",
       "age                             0\n",
       "organization_type               0\n",
       "past_avg_amount_annuity     16871\n",
       "past_avg_amt_application    16454\n",
       "past_avg_amt_credit         16454\n",
       "past_loans_approved         16454\n",
       "past_loans_refused          16454\n",
       "past_loans_canceled         16454\n",
       "past_loans_unused           16454\n",
       "past_loans_total            16454\n",
       "name                            0\n",
       "dtype: int64"
      ]
     },
     "metadata": {},
     "output_type": "display_data"
    },
    {
     "data": {
      "text/plain": [
       "loan_id                     0\n",
       "infringed                   0\n",
       "contract_type               0\n",
       "gender                      0\n",
       "annual_income               0\n",
       "credit_amount               0\n",
       "credit_annuity              0\n",
       "goods_valuation             0\n",
       "income_type                 0\n",
       "education                   0\n",
       "family_status               0\n",
       "age                         0\n",
       "organization_type           0\n",
       "past_avg_amount_annuity     0\n",
       "past_avg_amt_application    0\n",
       "past_avg_amt_credit         0\n",
       "past_loans_approved         0\n",
       "past_loans_refused          0\n",
       "past_loans_canceled         0\n",
       "past_loans_unused           0\n",
       "past_loans_total            0\n",
       "name                        0\n",
       "dtype: int64"
      ]
     },
     "metadata": {},
     "output_type": "display_data"
    }
   ],
   "source": [
    "import os\n",
    "import pandas as pd\n",
    "\n",
    "fich = 'infringement_dataset_v2.csv'\n",
    "\n",
    "new_fich = 'dataset.csv'\n",
    "\n",
    "df = pd.read_csv(fich)\n",
    "\n",
    "df['name'] = df['first_name'] + ' ' + df['last_name']\n",
    "\n",
    "df = df.drop(columns=['car_age', 'days_employed', 'has_own_car', 'has_own_realty', 'housing_type', 'mobilephone_reachable', \n",
    "                        'num_children', 'num_family_members', 'num_req_bureau_day', 'num_req_bureau_hour',\n",
    "                        'num_req_bureau_month', 'num_req_bureau_qrt', 'num_req_bureau_week', 'num_req_bureau_year', 'occupation_type',\n",
    "                        'provided_email', 'provided_homephone', 'provided_mobilephone', 'provided_workphone', 'region_rating', \n",
    "                        'score_ext_1', 'score_ext_2', 'score_ext_3', 'first_name', 'last_name'\n",
    "])\n",
    "display(df.isna().sum())\n",
    "\n",
    "df.fillna(value = -1,  \n",
    "          inplace = True) \n",
    "\n",
    "display(df.isna().sum())\n",
    "\n",
    "df.to_csv(new_fich, index=False)\n"
   ]
  }
 ],
 "metadata": {
  "kernelspec": {
   "display_name": "Python 3.9.12 ('base')",
   "language": "python",
   "name": "python3"
  },
  "language_info": {
   "codemirror_mode": {
    "name": "ipython",
    "version": 3
   },
   "file_extension": ".py",
   "mimetype": "text/x-python",
   "name": "python",
   "nbconvert_exporter": "python",
   "pygments_lexer": "ipython3",
   "version": "3.9.12 (main, Apr  4 2022, 05:22:27) [MSC v.1916 64 bit (AMD64)]"
  },
  "orig_nbformat": 4,
  "vscode": {
   "interpreter": {
    "hash": "47e1b8a2c375dc7eddb7fcbc77a4789e02579d6e777ba36c235362aa19e94720"
   }
  }
 },
 "nbformat": 4,
 "nbformat_minor": 2
}
